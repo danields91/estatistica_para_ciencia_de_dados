{
 "cells": [
  {
   "cell_type": "markdown",
   "metadata": {
    "id": "AxGScXlpOd6x"
   },
   "source": [
    "# Distribuição de frequência"
   ]
  },
  {
   "cell_type": "markdown",
   "metadata": {
    "id": "VhdSvqcE8vNK"
   },
   "source": [
    "## Importação das bibliotecas e dados originais"
   ]
  },
  {
   "cell_type": "code",
   "execution_count": 1,
   "metadata": {
    "id": "TJigF1mqyBDN"
   },
   "outputs": [],
   "source": [
    "import numpy as np\n",
    "import matplotlib.pyplot as plt\n",
    "import pandas as pd\n",
    "import seaborn as sns"
   ]
  },
  {
   "cell_type": "code",
   "execution_count": 2,
   "metadata": {
    "id": "R-6MeWTqyS7W"
   },
   "outputs": [],
   "source": [
    "dados = np.array([160, 165, 167, 164, 160, 166, 160, 161, 150, 152, 173, 160, 155,\n",
    "                  164, 168, 162, 161, 168, 163, 156, 155, 169, 151, 170, 164,\n",
    "                  155, 152, 163, 160, 155, 157, 156, 158, 158, 161, 154, 161, 156, 172, 153])"
   ]
  },
  {
   "cell_type": "markdown",
   "metadata": {
    "id": "C5B5jbd9O7UR"
   },
   "source": [
    "## Ordenação"
   ]
  },
  {
   "cell_type": "code",
   "execution_count": 3,
   "metadata": {
    "id": "VVdp28LfyewS"
   },
   "outputs": [],
   "source": [
    "dados = np.sort(dados)"
   ]
  },
  {
   "cell_type": "code",
   "execution_count": 4,
   "metadata": {
    "colab": {
     "base_uri": "https://localhost:8080/",
     "height": 108
    },
    "id": "ZKA8JTFPynby",
    "outputId": "efca0449-ed0b-4213-d773-c00adbc560a7"
   },
   "outputs": [
    {
     "data": {
      "text/plain": [
       "array([150, 151, 152, 152, 153, 154, 155, 155, 155, 155, 156, 156, 156,\n",
       "       157, 158, 158, 160, 160, 160, 160, 160, 161, 161, 161, 161, 162,\n",
       "       163, 163, 164, 164, 164, 165, 166, 167, 168, 168, 169, 170, 172,\n",
       "       173])"
      ]
     },
     "execution_count": 4,
     "metadata": {},
     "output_type": "execute_result"
    }
   ],
   "source": [
    "dados"
   ]
  },
  {
   "cell_type": "code",
   "execution_count": 5,
   "metadata": {
    "colab": {
     "base_uri": "https://localhost:8080/",
     "height": 55
    },
    "id": "0IXxiAYMysqO",
    "outputId": "0fb6f24b-b620-4161-d07c-e6d8a45ec9bc"
   },
   "outputs": [
    {
     "data": {
      "text/plain": [
       "150"
      ]
     },
     "execution_count": 5,
     "metadata": {},
     "output_type": "execute_result"
    }
   ],
   "source": [
    "minimo = dados.min()\n",
    "minimo"
   ]
  },
  {
   "cell_type": "code",
   "execution_count": 6,
   "metadata": {
    "colab": {
     "base_uri": "https://localhost:8080/",
     "height": 55
    },
    "id": "9bv3fp0UyxEI",
    "outputId": "14a60572-2044-4148-a805-0ac7bc6d642b"
   },
   "outputs": [
    {
     "data": {
      "text/plain": [
       "173"
      ]
     },
     "execution_count": 6,
     "metadata": {},
     "output_type": "execute_result"
    }
   ],
   "source": [
    "maximo = dados.max()\n",
    "maximo"
   ]
  },
  {
   "cell_type": "code",
   "execution_count": 7,
   "metadata": {
    "colab": {
     "base_uri": "https://localhost:8080/",
     "height": 90
    },
    "id": "lCFNpLOLy0j9",
    "outputId": "dec46763-4d3e-4171-95b1-0619e18d345c"
   },
   "outputs": [
    {
     "data": {
      "text/plain": [
       "(array([150, 151, 152, 153, 154, 155, 156, 157, 158, 160, 161, 162, 163,\n",
       "        164, 165, 166, 167, 168, 169, 170, 172, 173]),\n",
       " array([1, 1, 2, 1, 1, 4, 3, 1, 2, 5, 4, 1, 2, 3, 1, 1, 1, 2, 1, 1, 1, 1],\n",
       "       dtype=int64))"
      ]
     },
     "execution_count": 7,
     "metadata": {},
     "output_type": "execute_result"
    }
   ],
   "source": [
    "np.unique(dados, return_counts=True)"
   ]
  },
  {
   "cell_type": "code",
   "execution_count": 8,
   "metadata": {},
   "outputs": [
    {
     "data": {
      "image/png": "[encoded data removed]",
      "text/plain": [
       "<Figure size 432x288 with 1 Axes>"
      ]
     },
     "metadata": {
      "needs_background": "light"
     },
     "output_type": "display_data"
    }
   ],
   "source": [
    "plt.bar(dados, dados);"
   ]
  },
  {
   "cell_type": "markdown",
   "metadata": {
    "id": "rvAzaKbFQyXV"
   },
   "source": [
    "## Número de classes\n",
    "\n",
    "- i = 1 + 3.3 log n"
   ]
  },
  {
   "cell_type": "code",
   "execution_count": 9,
   "metadata": {
    "colab": {
     "base_uri": "https://localhost:8080/",
     "height": 55
    },
    "id": "5SweRT-FzpQD",
    "outputId": "91cdbaf0-7f3a-4569-9078-eaf91d766900"
   },
   "outputs": [
    {
     "data": {
      "text/plain": [
       "40"
      ]
     },
     "execution_count": 9,
     "metadata": {},
     "output_type": "execute_result"
    }
   ],
   "source": [
    "n = len(dados)\n",
    "n"
   ]
  },
  {
   "cell_type": "code",
   "execution_count": 10,
   "metadata": {},
   "outputs": [
    {
     "data": {
      "text/plain": [
       "6.286797971382275"
      ]
     },
     "execution_count": 10,
     "metadata": {},
     "output_type": "execute_result"
    }
   ],
   "source": [
    "i = 1 + 3.3 * np.log10(n)\n",
    "i"
   ]
  },
  {
   "cell_type": "code",
   "execution_count": 11,
   "metadata": {
    "colab": {
     "base_uri": "https://localhost:8080/",
     "height": 55
    },
    "id": "4TSnaiKnz5Ux",
    "outputId": "eb1572b2-bf7e-4db5-b95e-1ca3ef80d327"
   },
   "outputs": [
    {
     "data": {
      "text/plain": [
       "6"
      ]
     },
     "execution_count": 11,
     "metadata": {},
     "output_type": "execute_result"
    }
   ],
   "source": [
    "i = round(i)\n",
    "i"
   ]
  },
  {
   "cell_type": "markdown",
   "metadata": {
    "id": "a8oK6q7-RWru"
   },
   "source": [
    "## Amplitude do intervalo\n",
    "\n",
    "- h = AA / i\n",
    "- AA = Xmax - Xmin"
   ]
  },
  {
   "cell_type": "code",
   "execution_count": 12,
   "metadata": {
    "colab": {
     "base_uri": "https://localhost:8080/",
     "height": 55
    },
    "id": "9QHPeIZu0B9m",
    "outputId": "1a6bfae6-a9d8-4a0d-cf35-3b7a7c0eb48c"
   },
   "outputs": [
    {
     "data": {
      "text/plain": [
       "24"
      ]
     },
     "execution_count": 12,
     "metadata": {},
     "output_type": "execute_result"
    }
   ],
   "source": [
    "AA = maximo - minimo + 1\n",
    "AA"
   ]
  },
  {
   "cell_type": "code",
   "execution_count": 13,
   "metadata": {
    "colab": {
     "base_uri": "https://localhost:8080/",
     "height": 55
    },
    "id": "OfaaKxsy0HpQ",
    "outputId": "bbfedca7-bb6a-4a50-b2f3-363ff9eb0dd7"
   },
   "outputs": [
    {
     "data": {
      "text/plain": [
       "4.0"
      ]
     },
     "execution_count": 13,
     "metadata": {},
     "output_type": "execute_result"
    }
   ],
   "source": [
    "h = AA / i\n",
    "h"
   ]
  },
  {
   "cell_type": "code",
   "execution_count": 14,
   "metadata": {},
   "outputs": [
    {
     "data": {
      "text/plain": [
       "4"
      ]
     },
     "execution_count": 14,
     "metadata": {},
     "output_type": "execute_result"
    }
   ],
   "source": [
    "import math\n",
    "h = math.ceil(h)\n",
    "h"
   ]
  },
  {
   "cell_type": "markdown",
   "metadata": {
    "id": "gQYgJxLTU762"
   },
   "source": [
    "## Construção da distribuição de frequência"
   ]
  },
  {
   "cell_type": "code",
   "execution_count": 15,
   "metadata": {},
   "outputs": [
    {
     "data": {
      "text/plain": [
       "array([150, 154, 158, 162, 166, 170, 174])"
      ]
     },
     "execution_count": 15,
     "metadata": {},
     "output_type": "execute_result"
    }
   ],
   "source": [
    "intervalos = np.arange(minimo, maximo + 2, h)\n",
    "intervalos"
   ]
  },
  {
   "cell_type": "code",
   "execution_count": 16,
   "metadata": {},
   "outputs": [],
   "source": [
    "intervalo1, intervalo2, intervalo3, intervalo4, intervalo5, intervalo6 = 0,0,0,0,0,0\n",
    "\n",
    "for i in range(n):\n",
    "    if dados[i] >= intervalos[0] and dados[i] < intervalos[1]:\n",
    "        intervalo1 += 1\n",
    "    elif dados[i] >= intervalos[1] and dados[i] < intervalos[2]:\n",
    "        intervalo2 += 1\n",
    "    elif dados[i] >= intervalos[2] and dados[i] < intervalos[3]:\n",
    "        intervalo3 += 1\n",
    "    elif dados[i] >= intervalos[3] and dados[i] < intervalos[4]:\n",
    "        intervalo4 += 1\n",
    "    elif dados[i] >= intervalos[4] and dados[i] < intervalos[5]:\n",
    "        intervalo5 += 1\n",
    "    elif dados[i] >= intervalos[5] and dados[i] < intervalos[6]:\n",
    "        intervalo6 += 1"
   ]
  },
  {
   "cell_type": "code",
   "execution_count": 17,
   "metadata": {},
   "outputs": [
    {
     "data": {
      "text/plain": [
       "[5, 9, 11, 7, 5, 3]"
      ]
     },
     "execution_count": 17,
     "metadata": {},
     "output_type": "execute_result"
    }
   ],
   "source": [
    "lista_intervalos = []\n",
    "lista_intervalos.append(intervalo1)\n",
    "lista_intervalos.append(intervalo2)\n",
    "lista_intervalos.append(intervalo3)\n",
    "lista_intervalos.append(intervalo4)\n",
    "lista_intervalos.append(intervalo5)\n",
    "lista_intervalos.append(intervalo6)\n",
    "lista_intervalos"
   ]
  },
  {
   "cell_type": "code",
   "execution_count": 18,
   "metadata": {},
   "outputs": [],
   "source": [
    "lista_classes = []\n",
    "\n",
    "for i in range(len(lista_intervalos)):\n",
    "    lista_classes.append(str(intervalos[i]) + '-' + str(intervalos[i + 1] - 1))"
   ]
  },
  {
   "cell_type": "code",
   "execution_count": 19,
   "metadata": {
    "colab": {
     "base_uri": "https://localhost:8080/",
     "height": 55
    },
    "id": "9blEQMOo4z8z",
    "outputId": "8ba2886b-0885-49bb-df39-ddd17e5cd2ee"
   },
   "outputs": [
    {
     "data": {
      "text/plain": [
       "['150-153', '154-157', '158-161', '162-165', '166-169', '170-173']"
      ]
     },
     "execution_count": 19,
     "metadata": {},
     "output_type": "execute_result"
    }
   ],
   "source": [
    "lista_classes"
   ]
  },
  {
   "cell_type": "code",
   "execution_count": 20,
   "metadata": {},
   "outputs": [
    {
     "data": {
      "image/png": "[encoded data removed]",
      "text/plain": [
       "<Figure size 432x288 with 1 Axes>"
      ]
     },
     "metadata": {
      "needs_background": "light"
     },
     "output_type": "display_data"
    }
   ],
   "source": [
    "plt.bar(lista_classes, lista_intervalos)\n",
    "plt.title('Distribuição de Frequência - Histograma')\n",
    "plt.xlabel('Intervalos')\n",
    "plt.ylabel('Valores');"
   ]
  },
  {
   "cell_type": "markdown",
   "metadata": {
    "id": "vWrQIlPNdGN0"
   },
   "source": [
    "## Distribuição de frequência e histograma com numpy e matplotlib\n",
    "\n",
    "- https://numpy.org/doc/stable/reference/generated/numpy.histogram.html\n",
    "- https://numpy.org/doc/stable/reference/generated/numpy.histogram_bin_edges.html#numpy.histogram_bin_edges"
   ]
  },
  {
   "cell_type": "code",
   "execution_count": 21,
   "metadata": {
    "id": "OfSOj3O_5o1b"
   },
   "outputs": [],
   "source": [
    "dados = np.array([160, 165, 167, 164, 160, 166, 160, 161, 150, 152, 173, 160, 155,\n",
    "                  164, 168, 162, 161, 168, 163, 156, 155, 169, 151, 170, 164,\n",
    "                  155, 152, 163, 160, 155, 157, 156, 158, 158, 161, 154, 161, 156, 172, 153])"
   ]
  },
  {
   "cell_type": "code",
   "execution_count": 22,
   "metadata": {},
   "outputs": [],
   "source": [
    "frequencia, classes = np.histogram(dados)"
   ]
  },
  {
   "cell_type": "code",
   "execution_count": 23,
   "metadata": {
    "id": "-UeJ-dmx6FeF"
   },
   "outputs": [
    {
     "data": {
      "text/plain": [
       "(array([4, 2, 7, 3, 9, 3, 5, 3, 2, 2], dtype=int64),\n",
       " array([150. , 152.3, 154.6, 156.9, 159.2, 161.5, 163.8, 166.1, 168.4,\n",
       "        170.7, 173. ]),\n",
       " 11)"
      ]
     },
     "execution_count": 23,
     "metadata": {},
     "output_type": "execute_result"
    }
   ],
   "source": [
    "frequencia, classes, len(classes) # 10 classes"
   ]
  },
  {
   "cell_type": "code",
   "execution_count": 24,
   "metadata": {},
   "outputs": [
    {
     "data": {
      "image/png": "[encoded data removed]",
      "text/plain": [
       "<Figure size 432x288 with 1 Axes>"
      ]
     },
     "metadata": {
      "needs_background": "light"
     },
     "output_type": "display_data"
    }
   ],
   "source": [
    "plt.hist(dados, classes);"
   ]
  },
  {
   "cell_type": "code",
   "execution_count": 25,
   "metadata": {},
   "outputs": [
    {
     "data": {
      "text/plain": [
       "(array([ 6, 10, 12,  8,  4], dtype=int64),\n",
       " array([150. , 154.6, 159.2, 163.8, 168.4, 173. ]),\n",
       " 6)"
      ]
     },
     "execution_count": 25,
     "metadata": {},
     "output_type": "execute_result"
    }
   ],
   "source": [
    "frequencia, classes = np.histogram(dados, bins = 5) # 5 classes\n",
    "frequencia, classes, len(classes)"
   ]
  },
  {
   "cell_type": "code",
   "execution_count": 26,
   "metadata": {
    "colab": {
     "base_uri": "https://localhost:8080/",
     "height": 72
    },
    "id": "-pM2hrxu7Khk",
    "outputId": "3376fc27-74c7-4902-b4ff-332460978c8f",
    "scrolled": true
   },
   "outputs": [
    {
     "data": {
      "image/png": "[encoded data removed]",
      "text/plain": [
       "<Figure size 432x288 with 1 Axes>"
      ]
     },
     "metadata": {
      "needs_background": "light"
     },
     "output_type": "display_data"
    }
   ],
   "source": [
    "plt.hist(dados,classes);"
   ]
  },
  {
   "cell_type": "code",
   "execution_count": 27,
   "metadata": {},
   "outputs": [
    {
     "data": {
      "text/plain": [
       "(array([ 5,  8,  3, 12,  5,  4,  3], dtype=int64),\n",
       " array([150.        , 153.28571429, 156.57142857, 159.85714286,\n",
       "        163.14285714, 166.42857143, 169.71428571, 173.        ]),\n",
       " 8)"
      ]
     },
     "execution_count": 27,
     "metadata": {},
     "output_type": "execute_result"
    }
   ],
   "source": [
    "frequencia, classes = np.histogram(dados, bins = 'sturges')\n",
    "frequencia, classes, len(classes)"
   ]
  },
  {
   "cell_type": "markdown",
   "metadata": {},
   "source": [
    "**O método sturges foi o utilizado no cálculo anterior, porém o resultado lá ficou em 6 classes pois arredondamos o resultado (6.28) para baixo (6), quando o np.histogram(bins = 'sturges') arredonda para cima (7). Para alcançar esse resultado manualmente, ao invés de usar round(6.28), usaríamos o math.ceil(6.28), que daria 7 classes.**"
   ]
  },
  {
   "cell_type": "code",
   "execution_count": 28,
   "metadata": {
    "colab": {
     "base_uri": "https://localhost:8080/",
     "height": 90
    },
    "id": "EEbrWx0R7h3n",
    "outputId": "c2cde0d1-b2be-4878-b35b-e906d7cc8051"
   },
   "outputs": [
    {
     "data": {
      "image/png": "[encoded data removed]",
      "text/plain": [
       "<Figure size 432x288 with 1 Axes>"
      ]
     },
     "metadata": {
      "needs_background": "light"
     },
     "output_type": "display_data"
    }
   ],
   "source": [
    "plt.hist(dados, classes);"
   ]
  },
  {
   "cell_type": "markdown",
   "metadata": {
    "id": "Dg4L8OxjdIEv"
   },
   "source": [
    "## Distribuição de frequência e histograma com pandas e seaborn"
   ]
  },
  {
   "cell_type": "code",
   "execution_count": 29,
   "metadata": {
    "colab": {
     "base_uri": "https://localhost:8080/",
     "height": 55
    },
    "id": "fGA_ttEn9Hzy",
    "outputId": "59aedb89-4154-4e09-c881-7e4d3098d3db"
   },
   "outputs": [
    {
     "data": {
      "text/plain": [
       "numpy.ndarray"
      ]
     },
     "execution_count": 29,
     "metadata": {},
     "output_type": "execute_result"
    }
   ],
   "source": [
    "type(dados)"
   ]
  },
  {
   "cell_type": "code",
   "execution_count": 30,
   "metadata": {},
   "outputs": [
    {
     "data": {
      "text/html": [
       "<div>\n",
       "<style scoped>\n",
       "    .dataframe tbody tr th:only-of-type {\n",
       "        vertical-align: middle;\n",
       "    }\n",
       "\n",
       "    .dataframe tbody tr th {\n",
       "        vertical-align: top;\n",
       "    }\n",
       "\n",
       "    .dataframe thead th {\n",
       "        text-align: right;\n",
       "    }\n",
       "</style>\n",
       "<table border=\"1\" class=\"dataframe\">\n",
       "  <thead>\n",
       "    <tr style=\"text-align: right;\">\n",
       "      <th></th>\n",
       "      <th>dados</th>\n",
       "    </tr>\n",
       "  </thead>\n",
       "  <tbody>\n",
       "    <tr>\n",
       "      <th>0</th>\n",
       "      <td>160</td>\n",
       "    </tr>\n",
       "    <tr>\n",
       "      <th>1</th>\n",
       "      <td>165</td>\n",
       "    </tr>\n",
       "    <tr>\n",
       "      <th>2</th>\n",
       "      <td>167</td>\n",
       "    </tr>\n",
       "    <tr>\n",
       "      <th>3</th>\n",
       "      <td>164</td>\n",
       "    </tr>\n",
       "    <tr>\n",
       "      <th>4</th>\n",
       "      <td>160</td>\n",
       "    </tr>\n",
       "  </tbody>\n",
       "</table>\n",
       "</div>"
      ],
      "text/plain": [
       "   dados\n",
       "0    160\n",
       "1    165\n",
       "2    167\n",
       "3    164\n",
       "4    160"
      ]
     },
     "execution_count": 30,
     "metadata": {},
     "output_type": "execute_result"
    }
   ],
   "source": [
    "dataset = pd.DataFrame({'dados': dados})\n",
    "dataset.head()"
   ]
  },
  {
   "cell_type": "code",
   "execution_count": 31,
   "metadata": {},
   "outputs": [
    {
     "data": {
      "image/png": "[encoded data removed]",
      "text/plain": [
       "<Figure size 432x288 with 1 Axes>"
      ]
     },
     "metadata": {
      "needs_background": "light"
     },
     "output_type": "display_data"
    }
   ],
   "source": [
    "dataset.plot.hist();"
   ]
  },
  {
   "cell_type": "code",
   "execution_count": 32,
   "metadata": {},
   "outputs": [
    {
     "name": "stderr",
     "output_type": "stream",
     "text": [
      "C:\\Users\\danie\\anaconda3\\lib\\site-packages\\seaborn\\distributions.py:2619: FutureWarning: `distplot` is a deprecated function and will be removed in a future version. Please adapt your code to use either `displot` (a figure-level function with similar flexibility) or `histplot` (an axes-level function for histograms).\n",
      "  warnings.warn(msg, FutureWarning)\n"
     ]
    },
    {
     "data": {
      "image/png": "[encoded data removed]",
      "text/plain": [
       "<Figure size 432x288 with 1 Axes>"
      ]
     },
     "metadata": {
      "needs_background": "light"
     },
     "output_type": "display_data"
    }
   ],
   "source": [
    "sns.distplot(dados);"
   ]
  },
  {
   "cell_type": "code",
   "execution_count": 33,
   "metadata": {
    "colab": {
     "base_uri": "https://localhost:8080/",
     "height": 285
    },
    "id": "6szSIhcA9T90",
    "outputId": "babd217c-c218-42f3-a077-fc114791ab3d"
   },
   "outputs": [
    {
     "data": {
      "image/png": "[encoded data removed]",
      "text/plain": [
       "<Figure size 360x360 with 1 Axes>"
      ]
     },
     "metadata": {
      "needs_background": "light"
     },
     "output_type": "display_data"
    }
   ],
   "source": [
    "sns.displot(dados);"
   ]
  },
  {
   "cell_type": "code",
   "execution_count": 34,
   "metadata": {
    "colab": {
     "base_uri": "https://localhost:8080/",
     "height": 285
    },
    "id": "t-Y6hhw29d7t",
    "outputId": "3457f743-5542-4f09-949a-33ddc13b5e89"
   },
   "outputs": [
    {
     "data": {
      "image/png": "[encoded data removed]",
      "text/plain": [
       "<Figure size 432x288 with 1 Axes>"
      ]
     },
     "metadata": {
      "needs_background": "light"
     },
     "output_type": "display_data"
    }
   ],
   "source": [
    "sns.histplot(dados);"
   ]
  },
  {
   "cell_type": "markdown",
   "metadata": {
    "id": "Mfe1fB9i8wEW"
   },
   "source": [
    "## Exercício - idade census.csv"
   ]
  },
  {
   "cell_type": "markdown",
   "metadata": {},
   "source": [
    "Olá,\n",
    "\n",
    "O objetivo desta tarefa é aplicar a distribuição de frequência utilizando o atributo age da base de dados do censo\n",
    "\n",
    "Carregue a base de dados census.csv\n",
    "Faça testes utilizando o parâmetro bins para visualizar a distribuição dos dados\n",
    "Na próxima aula você pode conferir o vídeo com a solução\n",
    "\n",
    "Bom trabalho!\n",
    "\n",
    "Jones"
   ]
  },
  {
   "cell_type": "code",
   "execution_count": 35,
   "metadata": {
    "id": "4U9cqZ6280RT"
   },
   "outputs": [],
   "source": [
    "import pandas as pd\n",
    "dataset = pd.read_csv('Bases de dados/census.csv')"
   ]
  },
  {
   "cell_type": "code",
   "execution_count": 36,
   "metadata": {
    "colab": {
     "base_uri": "https://localhost:8080/",
     "height": 351
    },
    "id": "cYkZQ5yJ9PKI",
    "outputId": "e872a913-a92b-403f-e038-8dd5d9357920"
   },
   "outputs": [
    {
     "data": {
      "text/html": [
       "<div>\n",
       "<style scoped>\n",
       "    .dataframe tbody tr th:only-of-type {\n",
       "        vertical-align: middle;\n",
       "    }\n",
       "\n",
       "    .dataframe tbody tr th {\n",
       "        vertical-align: top;\n",
       "    }\n",
       "\n",
       "    .dataframe thead th {\n",
       "        text-align: right;\n",
       "    }\n",
       "</style>\n",
       "<table border=\"1\" class=\"dataframe\">\n",
       "  <thead>\n",
       "    <tr style=\"text-align: right;\">\n",
       "      <th></th>\n",
       "      <th>age</th>\n",
       "      <th>workclass</th>\n",
       "      <th>final-weight</th>\n",
       "      <th>education</th>\n",
       "      <th>education-num</th>\n",
       "      <th>marital-status</th>\n",
       "      <th>occupation</th>\n",
       "      <th>relationship</th>\n",
       "      <th>race</th>\n",
       "      <th>sex</th>\n",
       "      <th>capital-gain</th>\n",
       "      <th>capital-loos</th>\n",
       "      <th>hour-per-week</th>\n",
       "      <th>native-country</th>\n",
       "      <th>income</th>\n",
       "    </tr>\n",
       "  </thead>\n",
       "  <tbody>\n",
       "    <tr>\n",
       "      <th>0</th>\n",
       "      <td>39</td>\n",
       "      <td>State-gov</td>\n",
       "      <td>77516</td>\n",
       "      <td>Bachelors</td>\n",
       "      <td>13</td>\n",
       "      <td>Never-married</td>\n",
       "      <td>Adm-clerical</td>\n",
       "      <td>Not-in-family</td>\n",
       "      <td>White</td>\n",
       "      <td>Male</td>\n",
       "      <td>2174</td>\n",
       "      <td>0</td>\n",
       "      <td>40</td>\n",
       "      <td>United-States</td>\n",
       "      <td>&lt;=50K</td>\n",
       "    </tr>\n",
       "    <tr>\n",
       "      <th>1</th>\n",
       "      <td>50</td>\n",
       "      <td>Self-emp-not-inc</td>\n",
       "      <td>83311</td>\n",
       "      <td>Bachelors</td>\n",
       "      <td>13</td>\n",
       "      <td>Married-civ-spouse</td>\n",
       "      <td>Exec-managerial</td>\n",
       "      <td>Husband</td>\n",
       "      <td>White</td>\n",
       "      <td>Male</td>\n",
       "      <td>0</td>\n",
       "      <td>0</td>\n",
       "      <td>13</td>\n",
       "      <td>United-States</td>\n",
       "      <td>&lt;=50K</td>\n",
       "    </tr>\n",
       "    <tr>\n",
       "      <th>2</th>\n",
       "      <td>38</td>\n",
       "      <td>Private</td>\n",
       "      <td>215646</td>\n",
       "      <td>HS-grad</td>\n",
       "      <td>9</td>\n",
       "      <td>Divorced</td>\n",
       "      <td>Handlers-cleaners</td>\n",
       "      <td>Not-in-family</td>\n",
       "      <td>White</td>\n",
       "      <td>Male</td>\n",
       "      <td>0</td>\n",
       "      <td>0</td>\n",
       "      <td>40</td>\n",
       "      <td>United-States</td>\n",
       "      <td>&lt;=50K</td>\n",
       "    </tr>\n",
       "    <tr>\n",
       "      <th>3</th>\n",
       "      <td>53</td>\n",
       "      <td>Private</td>\n",
       "      <td>234721</td>\n",
       "      <td>11th</td>\n",
       "      <td>7</td>\n",
       "      <td>Married-civ-spouse</td>\n",
       "      <td>Handlers-cleaners</td>\n",
       "      <td>Husband</td>\n",
       "      <td>Black</td>\n",
       "      <td>Male</td>\n",
       "      <td>0</td>\n",
       "      <td>0</td>\n",
       "      <td>40</td>\n",
       "      <td>United-States</td>\n",
       "      <td>&lt;=50K</td>\n",
       "    </tr>\n",
       "    <tr>\n",
       "      <th>4</th>\n",
       "      <td>28</td>\n",
       "      <td>Private</td>\n",
       "      <td>338409</td>\n",
       "      <td>Bachelors</td>\n",
       "      <td>13</td>\n",
       "      <td>Married-civ-spouse</td>\n",
       "      <td>Prof-specialty</td>\n",
       "      <td>Wife</td>\n",
       "      <td>Black</td>\n",
       "      <td>Female</td>\n",
       "      <td>0</td>\n",
       "      <td>0</td>\n",
       "      <td>40</td>\n",
       "      <td>Cuba</td>\n",
       "      <td>&lt;=50K</td>\n",
       "    </tr>\n",
       "  </tbody>\n",
       "</table>\n",
       "</div>"
      ],
      "text/plain": [
       "   age          workclass  final-weight   education  education-num  \\\n",
       "0   39          State-gov         77516   Bachelors             13   \n",
       "1   50   Self-emp-not-inc         83311   Bachelors             13   \n",
       "2   38            Private        215646     HS-grad              9   \n",
       "3   53            Private        234721        11th              7   \n",
       "4   28            Private        338409   Bachelors             13   \n",
       "\n",
       "        marital-status          occupation    relationship    race      sex  \\\n",
       "0        Never-married        Adm-clerical   Not-in-family   White     Male   \n",
       "1   Married-civ-spouse     Exec-managerial         Husband   White     Male   \n",
       "2             Divorced   Handlers-cleaners   Not-in-family   White     Male   \n",
       "3   Married-civ-spouse   Handlers-cleaners         Husband   Black     Male   \n",
       "4   Married-civ-spouse      Prof-specialty            Wife   Black   Female   \n",
       "\n",
       "   capital-gain  capital-loos  hour-per-week  native-country  income  \n",
       "0          2174             0             40   United-States   <=50K  \n",
       "1             0             0             13   United-States   <=50K  \n",
       "2             0             0             40   United-States   <=50K  \n",
       "3             0             0             40   United-States   <=50K  \n",
       "4             0             0             40            Cuba   <=50K  "
      ]
     },
     "execution_count": 36,
     "metadata": {},
     "output_type": "execute_result"
    }
   ],
   "source": [
    "dataset.head()"
   ]
  },
  {
   "cell_type": "code",
   "execution_count": 37,
   "metadata": {},
   "outputs": [
    {
     "name": "stderr",
     "output_type": "stream",
     "text": [
      "C:\\Users\\danie\\anaconda3\\lib\\site-packages\\seaborn\\distributions.py:2619: FutureWarning: `distplot` is a deprecated function and will be removed in a future version. Please adapt your code to use either `displot` (a figure-level function with similar flexibility) or `histplot` (an axes-level function for histograms).\n",
      "  warnings.warn(msg, FutureWarning)\n"
     ]
    },
    {
     "data": {
      "text/plain": [
       "<AxesSubplot:xlabel='age', ylabel='Density'>"
      ]
     },
     "execution_count": 37,
     "metadata": {},
     "output_type": "execute_result"
    },
    {
     "data": {
      "image/png": "[encoded data removed]",
      "text/plain": [
       "<Figure size 432x288 with 1 Axes>"
      ]
     },
     "metadata": {
      "needs_background": "light"
     },
     "output_type": "display_data"
    }
   ],
   "source": [
    "sns.distplot(dataset['age'], bins = 5)"
   ]
  },
  {
   "cell_type": "code",
   "execution_count": 38,
   "metadata": {},
   "outputs": [
    {
     "data": {
      "image/png": "[encoded data removed]",
      "text/plain": [
       "<Figure size 432x288 with 1 Axes>"
      ]
     },
     "metadata": {
      "needs_background": "light"
     },
     "output_type": "display_data"
    }
   ],
   "source": [
    "dataset['age'].plot.hist();"
   ]
  },
  {
   "cell_type": "code",
   "execution_count": 39,
   "metadata": {},
   "outputs": [
    {
     "data": {
      "text/plain": [
       "32561"
      ]
     },
     "execution_count": 39,
     "metadata": {},
     "output_type": "execute_result"
    }
   ],
   "source": [
    "len(dataset)"
   ]
  },
  {
   "cell_type": "code",
   "execution_count": 40,
   "metadata": {},
   "outputs": [
    {
     "data": {
      "text/plain": [
       "15.891902523173354"
      ]
     },
     "execution_count": 40,
     "metadata": {},
     "output_type": "execute_result"
    }
   ],
   "source": [
    "i = 1 + 3.3 * np.log10(32561)\n",
    "i"
   ]
  },
  {
   "cell_type": "code",
   "execution_count": 41,
   "metadata": {},
   "outputs": [
    {
     "data": {
      "text/plain": [
       "16"
      ]
     },
     "execution_count": 41,
     "metadata": {},
     "output_type": "execute_result"
    }
   ],
   "source": [
    "i = math.ceil(i)\n",
    "i"
   ]
  },
  {
   "cell_type": "code",
   "execution_count": 42,
   "metadata": {},
   "outputs": [
    {
     "data": {
      "text/plain": [
       "74"
      ]
     },
     "execution_count": 42,
     "metadata": {},
     "output_type": "execute_result"
    }
   ],
   "source": [
    "AA = dataset['age'].max() - dataset['age'].min() + 1\n",
    "AA"
   ]
  },
  {
   "cell_type": "code",
   "execution_count": 43,
   "metadata": {},
   "outputs": [
    {
     "data": {
      "text/plain": [
       "5"
      ]
     },
     "execution_count": 43,
     "metadata": {},
     "output_type": "execute_result"
    }
   ],
   "source": [
    "h = math.ceil(AA / i)\n",
    "h"
   ]
  },
  {
   "cell_type": "code",
   "execution_count": 44,
   "metadata": {},
   "outputs": [
    {
     "data": {
      "image/png": "[encoded data removed]",
      "text/plain": [
       "<Figure size 432x288 with 1 Axes>"
      ]
     },
     "metadata": {
      "needs_background": "light"
     },
     "output_type": "display_data"
    }
   ],
   "source": [
    "dataset['age'].plot.hist(bins = 16);"
   ]
  },
  {
   "cell_type": "code",
   "execution_count": 45,
   "metadata": {},
   "outputs": [],
   "source": [
    "faixas_etarias = [0, 17, 25, 35, 42, 60, 90]\n",
    "dataset['faixas_etarias'] = pd.cut(dataset['age'], bins = faixas_etarias,\n",
    "                                   labels = ['Faixa 1', 'Faixa 2', 'Faixa 3', 'Faixa 4', 'Faixa 5', 'Faixa 6'])"
   ]
  },
  {
   "cell_type": "code",
   "execution_count": 46,
   "metadata": {
    "colab": {
     "base_uri": "https://localhost:8080/",
     "height": 55
    },
    "id": "GzzRFcem9SBZ",
    "outputId": "aa0a9565-3913-4410-8106-be615dcc084d",
    "scrolled": true
   },
   "outputs": [
    {
     "data": {
      "text/html": [
       "<div>\n",
       "<style scoped>\n",
       "    .dataframe tbody tr th:only-of-type {\n",
       "        vertical-align: middle;\n",
       "    }\n",
       "\n",
       "    .dataframe tbody tr th {\n",
       "        vertical-align: top;\n",
       "    }\n",
       "\n",
       "    .dataframe thead th {\n",
       "        text-align: right;\n",
       "    }\n",
       "</style>\n",
       "<table border=\"1\" class=\"dataframe\">\n",
       "  <thead>\n",
       "    <tr style=\"text-align: right;\">\n",
       "      <th></th>\n",
       "      <th>age</th>\n",
       "      <th>workclass</th>\n",
       "      <th>final-weight</th>\n",
       "      <th>education</th>\n",
       "      <th>education-num</th>\n",
       "      <th>marital-status</th>\n",
       "      <th>occupation</th>\n",
       "      <th>relationship</th>\n",
       "      <th>race</th>\n",
       "      <th>sex</th>\n",
       "      <th>capital-gain</th>\n",
       "      <th>capital-loos</th>\n",
       "      <th>hour-per-week</th>\n",
       "      <th>native-country</th>\n",
       "      <th>income</th>\n",
       "      <th>faixas_etarias</th>\n",
       "    </tr>\n",
       "  </thead>\n",
       "  <tbody>\n",
       "    <tr>\n",
       "      <th>0</th>\n",
       "      <td>39</td>\n",
       "      <td>State-gov</td>\n",
       "      <td>77516</td>\n",
       "      <td>Bachelors</td>\n",
       "      <td>13</td>\n",
       "      <td>Never-married</td>\n",
       "      <td>Adm-clerical</td>\n",
       "      <td>Not-in-family</td>\n",
       "      <td>White</td>\n",
       "      <td>Male</td>\n",
       "      <td>2174</td>\n",
       "      <td>0</td>\n",
       "      <td>40</td>\n",
       "      <td>United-States</td>\n",
       "      <td>&lt;=50K</td>\n",
       "      <td>Faixa 4</td>\n",
       "    </tr>\n",
       "    <tr>\n",
       "      <th>1</th>\n",
       "      <td>50</td>\n",
       "      <td>Self-emp-not-inc</td>\n",
       "      <td>83311</td>\n",
       "      <td>Bachelors</td>\n",
       "      <td>13</td>\n",
       "      <td>Married-civ-spouse</td>\n",
       "      <td>Exec-managerial</td>\n",
       "      <td>Husband</td>\n",
       "      <td>White</td>\n",
       "      <td>Male</td>\n",
       "      <td>0</td>\n",
       "      <td>0</td>\n",
       "      <td>13</td>\n",
       "      <td>United-States</td>\n",
       "      <td>&lt;=50K</td>\n",
       "      <td>Faixa 5</td>\n",
       "    </tr>\n",
       "    <tr>\n",
       "      <th>2</th>\n",
       "      <td>38</td>\n",
       "      <td>Private</td>\n",
       "      <td>215646</td>\n",
       "      <td>HS-grad</td>\n",
       "      <td>9</td>\n",
       "      <td>Divorced</td>\n",
       "      <td>Handlers-cleaners</td>\n",
       "      <td>Not-in-family</td>\n",
       "      <td>White</td>\n",
       "      <td>Male</td>\n",
       "      <td>0</td>\n",
       "      <td>0</td>\n",
       "      <td>40</td>\n",
       "      <td>United-States</td>\n",
       "      <td>&lt;=50K</td>\n",
       "      <td>Faixa 4</td>\n",
       "    </tr>\n",
       "    <tr>\n",
       "      <th>3</th>\n",
       "      <td>53</td>\n",
       "      <td>Private</td>\n",
       "      <td>234721</td>\n",
       "      <td>11th</td>\n",
       "      <td>7</td>\n",
       "      <td>Married-civ-spouse</td>\n",
       "      <td>Handlers-cleaners</td>\n",
       "      <td>Husband</td>\n",
       "      <td>Black</td>\n",
       "      <td>Male</td>\n",
       "      <td>0</td>\n",
       "      <td>0</td>\n",
       "      <td>40</td>\n",
       "      <td>United-States</td>\n",
       "      <td>&lt;=50K</td>\n",
       "      <td>Faixa 5</td>\n",
       "    </tr>\n",
       "    <tr>\n",
       "      <th>4</th>\n",
       "      <td>28</td>\n",
       "      <td>Private</td>\n",
       "      <td>338409</td>\n",
       "      <td>Bachelors</td>\n",
       "      <td>13</td>\n",
       "      <td>Married-civ-spouse</td>\n",
       "      <td>Prof-specialty</td>\n",
       "      <td>Wife</td>\n",
       "      <td>Black</td>\n",
       "      <td>Female</td>\n",
       "      <td>0</td>\n",
       "      <td>0</td>\n",
       "      <td>40</td>\n",
       "      <td>Cuba</td>\n",
       "      <td>&lt;=50K</td>\n",
       "      <td>Faixa 3</td>\n",
       "    </tr>\n",
       "    <tr>\n",
       "      <th>...</th>\n",
       "      <td>...</td>\n",
       "      <td>...</td>\n",
       "      <td>...</td>\n",
       "      <td>...</td>\n",
       "      <td>...</td>\n",
       "      <td>...</td>\n",
       "      <td>...</td>\n",
       "      <td>...</td>\n",
       "      <td>...</td>\n",
       "      <td>...</td>\n",
       "      <td>...</td>\n",
       "      <td>...</td>\n",
       "      <td>...</td>\n",
       "      <td>...</td>\n",
       "      <td>...</td>\n",
       "      <td>...</td>\n",
       "    </tr>\n",
       "    <tr>\n",
       "      <th>32556</th>\n",
       "      <td>27</td>\n",
       "      <td>Private</td>\n",
       "      <td>257302</td>\n",
       "      <td>Assoc-acdm</td>\n",
       "      <td>12</td>\n",
       "      <td>Married-civ-spouse</td>\n",
       "      <td>Tech-support</td>\n",
       "      <td>Wife</td>\n",
       "      <td>White</td>\n",
       "      <td>Female</td>\n",
       "      <td>0</td>\n",
       "      <td>0</td>\n",
       "      <td>38</td>\n",
       "      <td>United-States</td>\n",
       "      <td>&lt;=50K</td>\n",
       "      <td>Faixa 3</td>\n",
       "    </tr>\n",
       "    <tr>\n",
       "      <th>32557</th>\n",
       "      <td>40</td>\n",
       "      <td>Private</td>\n",
       "      <td>154374</td>\n",
       "      <td>HS-grad</td>\n",
       "      <td>9</td>\n",
       "      <td>Married-civ-spouse</td>\n",
       "      <td>Machine-op-inspct</td>\n",
       "      <td>Husband</td>\n",
       "      <td>White</td>\n",
       "      <td>Male</td>\n",
       "      <td>0</td>\n",
       "      <td>0</td>\n",
       "      <td>40</td>\n",
       "      <td>United-States</td>\n",
       "      <td>&gt;50K</td>\n",
       "      <td>Faixa 4</td>\n",
       "    </tr>\n",
       "    <tr>\n",
       "      <th>32558</th>\n",
       "      <td>58</td>\n",
       "      <td>Private</td>\n",
       "      <td>151910</td>\n",
       "      <td>HS-grad</td>\n",
       "      <td>9</td>\n",
       "      <td>Widowed</td>\n",
       "      <td>Adm-clerical</td>\n",
       "      <td>Unmarried</td>\n",
       "      <td>White</td>\n",
       "      <td>Female</td>\n",
       "      <td>0</td>\n",
       "      <td>0</td>\n",
       "      <td>40</td>\n",
       "      <td>United-States</td>\n",
       "      <td>&lt;=50K</td>\n",
       "      <td>Faixa 5</td>\n",
       "    </tr>\n",
       "    <tr>\n",
       "      <th>32559</th>\n",
       "      <td>22</td>\n",
       "      <td>Private</td>\n",
       "      <td>201490</td>\n",
       "      <td>HS-grad</td>\n",
       "      <td>9</td>\n",
       "      <td>Never-married</td>\n",
       "      <td>Adm-clerical</td>\n",
       "      <td>Own-child</td>\n",
       "      <td>White</td>\n",
       "      <td>Male</td>\n",
       "      <td>0</td>\n",
       "      <td>0</td>\n",
       "      <td>20</td>\n",
       "      <td>United-States</td>\n",
       "      <td>&lt;=50K</td>\n",
       "      <td>Faixa 2</td>\n",
       "    </tr>\n",
       "    <tr>\n",
       "      <th>32560</th>\n",
       "      <td>52</td>\n",
       "      <td>Self-emp-inc</td>\n",
       "      <td>287927</td>\n",
       "      <td>HS-grad</td>\n",
       "      <td>9</td>\n",
       "      <td>Married-civ-spouse</td>\n",
       "      <td>Exec-managerial</td>\n",
       "      <td>Wife</td>\n",
       "      <td>White</td>\n",
       "      <td>Female</td>\n",
       "      <td>15024</td>\n",
       "      <td>0</td>\n",
       "      <td>40</td>\n",
       "      <td>United-States</td>\n",
       "      <td>&gt;50K</td>\n",
       "      <td>Faixa 5</td>\n",
       "    </tr>\n",
       "  </tbody>\n",
       "</table>\n",
       "<p>32561 rows × 16 columns</p>\n",
       "</div>"
      ],
      "text/plain": [
       "       age          workclass  final-weight    education  education-num  \\\n",
       "0       39          State-gov         77516    Bachelors             13   \n",
       "1       50   Self-emp-not-inc         83311    Bachelors             13   \n",
       "2       38            Private        215646      HS-grad              9   \n",
       "3       53            Private        234721         11th              7   \n",
       "4       28            Private        338409    Bachelors             13   \n",
       "...    ...                ...           ...          ...            ...   \n",
       "32556   27            Private        257302   Assoc-acdm             12   \n",
       "32557   40            Private        154374      HS-grad              9   \n",
       "32558   58            Private        151910      HS-grad              9   \n",
       "32559   22            Private        201490      HS-grad              9   \n",
       "32560   52       Self-emp-inc        287927      HS-grad              9   \n",
       "\n",
       "            marital-status          occupation    relationship    race  \\\n",
       "0            Never-married        Adm-clerical   Not-in-family   White   \n",
       "1       Married-civ-spouse     Exec-managerial         Husband   White   \n",
       "2                 Divorced   Handlers-cleaners   Not-in-family   White   \n",
       "3       Married-civ-spouse   Handlers-cleaners         Husband   Black   \n",
       "4       Married-civ-spouse      Prof-specialty            Wife   Black   \n",
       "...                    ...                 ...             ...     ...   \n",
       "32556   Married-civ-spouse        Tech-support            Wife   White   \n",
       "32557   Married-civ-spouse   Machine-op-inspct         Husband   White   \n",
       "32558              Widowed        Adm-clerical       Unmarried   White   \n",
       "32559        Never-married        Adm-clerical       Own-child   White   \n",
       "32560   Married-civ-spouse     Exec-managerial            Wife   White   \n",
       "\n",
       "           sex  capital-gain  capital-loos  hour-per-week  native-country  \\\n",
       "0         Male          2174             0             40   United-States   \n",
       "1         Male             0             0             13   United-States   \n",
       "2         Male             0             0             40   United-States   \n",
       "3         Male             0             0             40   United-States   \n",
       "4       Female             0             0             40            Cuba   \n",
       "...        ...           ...           ...            ...             ...   \n",
       "32556   Female             0             0             38   United-States   \n",
       "32557     Male             0             0             40   United-States   \n",
       "32558   Female             0             0             40   United-States   \n",
       "32559     Male             0             0             20   United-States   \n",
       "32560   Female         15024             0             40   United-States   \n",
       "\n",
       "       income faixas_etarias  \n",
       "0       <=50K        Faixa 4  \n",
       "1       <=50K        Faixa 5  \n",
       "2       <=50K        Faixa 4  \n",
       "3       <=50K        Faixa 5  \n",
       "4       <=50K        Faixa 3  \n",
       "...       ...            ...  \n",
       "32556   <=50K        Faixa 3  \n",
       "32557    >50K        Faixa 4  \n",
       "32558   <=50K        Faixa 5  \n",
       "32559   <=50K        Faixa 2  \n",
       "32560    >50K        Faixa 5  \n",
       "\n",
       "[32561 rows x 16 columns]"
      ]
     },
     "execution_count": 46,
     "metadata": {},
     "output_type": "execute_result"
    }
   ],
   "source": [
    "dataset"
   ]
  },
  {
   "cell_type": "code",
   "execution_count": 47,
   "metadata": {},
   "outputs": [
    {
     "data": {
      "text/html": [
       "<div>\n",
       "<style scoped>\n",
       "    .dataframe tbody tr th:only-of-type {\n",
       "        vertical-align: middle;\n",
       "    }\n",
       "\n",
       "    .dataframe tbody tr th {\n",
       "        vertical-align: top;\n",
       "    }\n",
       "\n",
       "    .dataframe thead th {\n",
       "        text-align: right;\n",
       "    }\n",
       "</style>\n",
       "<table border=\"1\" class=\"dataframe\">\n",
       "  <thead>\n",
       "    <tr style=\"text-align: right;\">\n",
       "      <th></th>\n",
       "      <th>age</th>\n",
       "      <th>workclass</th>\n",
       "      <th>final-weight</th>\n",
       "      <th>education</th>\n",
       "      <th>education-num</th>\n",
       "      <th>marital-status</th>\n",
       "      <th>occupation</th>\n",
       "      <th>relationship</th>\n",
       "      <th>race</th>\n",
       "      <th>sex</th>\n",
       "      <th>capital-gain</th>\n",
       "      <th>capital-loos</th>\n",
       "      <th>hour-per-week</th>\n",
       "      <th>native-country</th>\n",
       "      <th>income</th>\n",
       "      <th>faixa-etaria</th>\n",
       "    </tr>\n",
       "  </thead>\n",
       "  <tbody>\n",
       "    <tr>\n",
       "      <th>0</th>\n",
       "      <td>39</td>\n",
       "      <td>State-gov</td>\n",
       "      <td>77516</td>\n",
       "      <td>Bachelors</td>\n",
       "      <td>13</td>\n",
       "      <td>Never-married</td>\n",
       "      <td>Adm-clerical</td>\n",
       "      <td>Not-in-family</td>\n",
       "      <td>White</td>\n",
       "      <td>Male</td>\n",
       "      <td>2174</td>\n",
       "      <td>0</td>\n",
       "      <td>40</td>\n",
       "      <td>United-States</td>\n",
       "      <td>&lt;=50K</td>\n",
       "      <td>Faixa 4</td>\n",
       "    </tr>\n",
       "    <tr>\n",
       "      <th>1</th>\n",
       "      <td>50</td>\n",
       "      <td>Self-emp-not-inc</td>\n",
       "      <td>83311</td>\n",
       "      <td>Bachelors</td>\n",
       "      <td>13</td>\n",
       "      <td>Married-civ-spouse</td>\n",
       "      <td>Exec-managerial</td>\n",
       "      <td>Husband</td>\n",
       "      <td>White</td>\n",
       "      <td>Male</td>\n",
       "      <td>0</td>\n",
       "      <td>0</td>\n",
       "      <td>13</td>\n",
       "      <td>United-States</td>\n",
       "      <td>&lt;=50K</td>\n",
       "      <td>Faixa 5</td>\n",
       "    </tr>\n",
       "    <tr>\n",
       "      <th>2</th>\n",
       "      <td>38</td>\n",
       "      <td>Private</td>\n",
       "      <td>215646</td>\n",
       "      <td>HS-grad</td>\n",
       "      <td>9</td>\n",
       "      <td>Divorced</td>\n",
       "      <td>Handlers-cleaners</td>\n",
       "      <td>Not-in-family</td>\n",
       "      <td>White</td>\n",
       "      <td>Male</td>\n",
       "      <td>0</td>\n",
       "      <td>0</td>\n",
       "      <td>40</td>\n",
       "      <td>United-States</td>\n",
       "      <td>&lt;=50K</td>\n",
       "      <td>Faixa 4</td>\n",
       "    </tr>\n",
       "    <tr>\n",
       "      <th>3</th>\n",
       "      <td>53</td>\n",
       "      <td>Private</td>\n",
       "      <td>234721</td>\n",
       "      <td>11th</td>\n",
       "      <td>7</td>\n",
       "      <td>Married-civ-spouse</td>\n",
       "      <td>Handlers-cleaners</td>\n",
       "      <td>Husband</td>\n",
       "      <td>Black</td>\n",
       "      <td>Male</td>\n",
       "      <td>0</td>\n",
       "      <td>0</td>\n",
       "      <td>40</td>\n",
       "      <td>United-States</td>\n",
       "      <td>&lt;=50K</td>\n",
       "      <td>Faixa 5</td>\n",
       "    </tr>\n",
       "    <tr>\n",
       "      <th>4</th>\n",
       "      <td>28</td>\n",
       "      <td>Private</td>\n",
       "      <td>338409</td>\n",
       "      <td>Bachelors</td>\n",
       "      <td>13</td>\n",
       "      <td>Married-civ-spouse</td>\n",
       "      <td>Prof-specialty</td>\n",
       "      <td>Wife</td>\n",
       "      <td>Black</td>\n",
       "      <td>Female</td>\n",
       "      <td>0</td>\n",
       "      <td>0</td>\n",
       "      <td>40</td>\n",
       "      <td>Cuba</td>\n",
       "      <td>&lt;=50K</td>\n",
       "      <td>Faixa 3</td>\n",
       "    </tr>\n",
       "  </tbody>\n",
       "</table>\n",
       "</div>"
      ],
      "text/plain": [
       "   age          workclass  final-weight   education  education-num  \\\n",
       "0   39          State-gov         77516   Bachelors             13   \n",
       "1   50   Self-emp-not-inc         83311   Bachelors             13   \n",
       "2   38            Private        215646     HS-grad              9   \n",
       "3   53            Private        234721        11th              7   \n",
       "4   28            Private        338409   Bachelors             13   \n",
       "\n",
       "        marital-status          occupation    relationship    race      sex  \\\n",
       "0        Never-married        Adm-clerical   Not-in-family   White     Male   \n",
       "1   Married-civ-spouse     Exec-managerial         Husband   White     Male   \n",
       "2             Divorced   Handlers-cleaners   Not-in-family   White     Male   \n",
       "3   Married-civ-spouse   Handlers-cleaners         Husband   Black     Male   \n",
       "4   Married-civ-spouse      Prof-specialty            Wife   Black   Female   \n",
       "\n",
       "   capital-gain  capital-loos  hour-per-week  native-country  income  \\\n",
       "0          2174             0             40   United-States   <=50K   \n",
       "1             0             0             13   United-States   <=50K   \n",
       "2             0             0             40   United-States   <=50K   \n",
       "3             0             0             40   United-States   <=50K   \n",
       "4             0             0             40            Cuba   <=50K   \n",
       "\n",
       "  faixa-etaria  \n",
       "0      Faixa 4  \n",
       "1      Faixa 5  \n",
       "2      Faixa 4  \n",
       "3      Faixa 5  \n",
       "4      Faixa 3  "
      ]
     },
     "execution_count": 47,
     "metadata": {},
     "output_type": "execute_result"
    }
   ],
   "source": [
    "dataset = dataset.rename(columns={'faixas_etarias': 'faixa-etaria'})\n",
    "dataset.head()"
   ]
  },
  {
   "cell_type": "code",
   "execution_count": 48,
   "metadata": {
    "colab": {
     "base_uri": "https://localhost:8080/",
     "height": 285
    },
    "id": "k7Ehdyru9Yg6",
    "outputId": "e9406856-906f-4cd2-f3a4-f7a79142aa54"
   },
   "outputs": [
    {
     "data": {
      "text/plain": [
       "['Faixa 4', 'Faixa 5', 'Faixa 3', 'Faixa 2', 'Faixa 6', 'Faixa 1']\n",
       "Categories (6, object): ['Faixa 1' < 'Faixa 2' < 'Faixa 3' < 'Faixa 4' < 'Faixa 5' < 'Faixa 6']"
      ]
     },
     "execution_count": 48,
     "metadata": {},
     "output_type": "execute_result"
    }
   ],
   "source": [
    "dataset['faixa-etaria'].unique()"
   ]
  },
  {
   "cell_type": "code",
   "execution_count": 49,
   "metadata": {},
   "outputs": [
    {
     "data": {
      "text/plain": [
       "Index(['age', 'workclass', 'final-weight', 'education', 'education-num',\n",
       "       'marital-status', 'occupation', 'relationship', 'race', 'sex',\n",
       "       'capital-gain', 'capital-loos', 'hour-per-week', 'native-country',\n",
       "       'income', 'faixa-etaria'],\n",
       "      dtype='object')"
      ]
     },
     "execution_count": 49,
     "metadata": {},
     "output_type": "execute_result"
    }
   ],
   "source": [
    "dataset.columns"
   ]
  },
  {
   "cell_type": "code",
   "execution_count": 50,
   "metadata": {},
   "outputs": [],
   "source": [
    "dataset = dataset[['faixa-etaria', 'age', 'workclass', 'final-weight', 'education', 'education-num',\n",
    "       'marital-status', 'occupation', 'relationship', 'race', 'sex',\n",
    "       'capital-gain', 'capital-loos', 'hour-per-week', 'native-country',\n",
    "       'income']]"
   ]
  },
  {
   "cell_type": "code",
   "execution_count": 51,
   "metadata": {
    "colab": {
     "base_uri": "https://localhost:8080/",
     "height": 351
    },
    "id": "zlWvB_IH-WB7",
    "outputId": "4af66f61-2f38-467a-80e6-f5f84e55447e"
   },
   "outputs": [
    {
     "data": {
      "text/html": [
       "<div>\n",
       "<style scoped>\n",
       "    .dataframe tbody tr th:only-of-type {\n",
       "        vertical-align: middle;\n",
       "    }\n",
       "\n",
       "    .dataframe tbody tr th {\n",
       "        vertical-align: top;\n",
       "    }\n",
       "\n",
       "    .dataframe thead th {\n",
       "        text-align: right;\n",
       "    }\n",
       "</style>\n",
       "<table border=\"1\" class=\"dataframe\">\n",
       "  <thead>\n",
       "    <tr style=\"text-align: right;\">\n",
       "      <th></th>\n",
       "      <th>faixa-etaria</th>\n",
       "      <th>age</th>\n",
       "      <th>workclass</th>\n",
       "      <th>final-weight</th>\n",
       "      <th>education</th>\n",
       "      <th>education-num</th>\n",
       "      <th>marital-status</th>\n",
       "      <th>occupation</th>\n",
       "      <th>relationship</th>\n",
       "      <th>race</th>\n",
       "      <th>sex</th>\n",
       "      <th>capital-gain</th>\n",
       "      <th>capital-loos</th>\n",
       "      <th>hour-per-week</th>\n",
       "      <th>native-country</th>\n",
       "      <th>income</th>\n",
       "    </tr>\n",
       "  </thead>\n",
       "  <tbody>\n",
       "    <tr>\n",
       "      <th>0</th>\n",
       "      <td>Faixa 4</td>\n",
       "      <td>39</td>\n",
       "      <td>State-gov</td>\n",
       "      <td>77516</td>\n",
       "      <td>Bachelors</td>\n",
       "      <td>13</td>\n",
       "      <td>Never-married</td>\n",
       "      <td>Adm-clerical</td>\n",
       "      <td>Not-in-family</td>\n",
       "      <td>White</td>\n",
       "      <td>Male</td>\n",
       "      <td>2174</td>\n",
       "      <td>0</td>\n",
       "      <td>40</td>\n",
       "      <td>United-States</td>\n",
       "      <td>&lt;=50K</td>\n",
       "    </tr>\n",
       "    <tr>\n",
       "      <th>1</th>\n",
       "      <td>Faixa 5</td>\n",
       "      <td>50</td>\n",
       "      <td>Self-emp-not-inc</td>\n",
       "      <td>83311</td>\n",
       "      <td>Bachelors</td>\n",
       "      <td>13</td>\n",
       "      <td>Married-civ-spouse</td>\n",
       "      <td>Exec-managerial</td>\n",
       "      <td>Husband</td>\n",
       "      <td>White</td>\n",
       "      <td>Male</td>\n",
       "      <td>0</td>\n",
       "      <td>0</td>\n",
       "      <td>13</td>\n",
       "      <td>United-States</td>\n",
       "      <td>&lt;=50K</td>\n",
       "    </tr>\n",
       "    <tr>\n",
       "      <th>2</th>\n",
       "      <td>Faixa 4</td>\n",
       "      <td>38</td>\n",
       "      <td>Private</td>\n",
       "      <td>215646</td>\n",
       "      <td>HS-grad</td>\n",
       "      <td>9</td>\n",
       "      <td>Divorced</td>\n",
       "      <td>Handlers-cleaners</td>\n",
       "      <td>Not-in-family</td>\n",
       "      <td>White</td>\n",
       "      <td>Male</td>\n",
       "      <td>0</td>\n",
       "      <td>0</td>\n",
       "      <td>40</td>\n",
       "      <td>United-States</td>\n",
       "      <td>&lt;=50K</td>\n",
       "    </tr>\n",
       "    <tr>\n",
       "      <th>3</th>\n",
       "      <td>Faixa 5</td>\n",
       "      <td>53</td>\n",
       "      <td>Private</td>\n",
       "      <td>234721</td>\n",
       "      <td>11th</td>\n",
       "      <td>7</td>\n",
       "      <td>Married-civ-spouse</td>\n",
       "      <td>Handlers-cleaners</td>\n",
       "      <td>Husband</td>\n",
       "      <td>Black</td>\n",
       "      <td>Male</td>\n",
       "      <td>0</td>\n",
       "      <td>0</td>\n",
       "      <td>40</td>\n",
       "      <td>United-States</td>\n",
       "      <td>&lt;=50K</td>\n",
       "    </tr>\n",
       "    <tr>\n",
       "      <th>4</th>\n",
       "      <td>Faixa 3</td>\n",
       "      <td>28</td>\n",
       "      <td>Private</td>\n",
       "      <td>338409</td>\n",
       "      <td>Bachelors</td>\n",
       "      <td>13</td>\n",
       "      <td>Married-civ-spouse</td>\n",
       "      <td>Prof-specialty</td>\n",
       "      <td>Wife</td>\n",
       "      <td>Black</td>\n",
       "      <td>Female</td>\n",
       "      <td>0</td>\n",
       "      <td>0</td>\n",
       "      <td>40</td>\n",
       "      <td>Cuba</td>\n",
       "      <td>&lt;=50K</td>\n",
       "    </tr>\n",
       "  </tbody>\n",
       "</table>\n",
       "</div>"
      ],
      "text/plain": [
       "  faixa-etaria  age          workclass  final-weight   education  \\\n",
       "0      Faixa 4   39          State-gov         77516   Bachelors   \n",
       "1      Faixa 5   50   Self-emp-not-inc         83311   Bachelors   \n",
       "2      Faixa 4   38            Private        215646     HS-grad   \n",
       "3      Faixa 5   53            Private        234721        11th   \n",
       "4      Faixa 3   28            Private        338409   Bachelors   \n",
       "\n",
       "   education-num       marital-status          occupation    relationship  \\\n",
       "0             13        Never-married        Adm-clerical   Not-in-family   \n",
       "1             13   Married-civ-spouse     Exec-managerial         Husband   \n",
       "2              9             Divorced   Handlers-cleaners   Not-in-family   \n",
       "3              7   Married-civ-spouse   Handlers-cleaners         Husband   \n",
       "4             13   Married-civ-spouse      Prof-specialty            Wife   \n",
       "\n",
       "     race      sex  capital-gain  capital-loos  hour-per-week  native-country  \\\n",
       "0   White     Male          2174             0             40   United-States   \n",
       "1   White     Male             0             0             13   United-States   \n",
       "2   White     Male             0             0             40   United-States   \n",
       "3   Black     Male             0             0             40   United-States   \n",
       "4   Black   Female             0             0             40            Cuba   \n",
       "\n",
       "   income  \n",
       "0   <=50K  \n",
       "1   <=50K  \n",
       "2   <=50K  \n",
       "3   <=50K  \n",
       "4   <=50K  "
      ]
     },
     "execution_count": 51,
     "metadata": {},
     "output_type": "execute_result"
    }
   ],
   "source": [
    "dataset.head()"
   ]
  },
  {
   "cell_type": "markdown",
   "metadata": {
    "id": "8VlagMi-_QqB"
   },
   "source": [
    "## Regras de associação"
   ]
  },
  {
   "cell_type": "code",
   "execution_count": 52,
   "metadata": {
    "colab": {
     "base_uri": "https://localhost:8080/",
     "height": 351
    },
    "id": "mpTnziwjA2_x",
    "outputId": "de2df78c-4295-4301-aa5a-015c8039c8be"
   },
   "outputs": [
    {
     "data": {
      "text/html": [
       "<div>\n",
       "<style scoped>\n",
       "    .dataframe tbody tr th:only-of-type {\n",
       "        vertical-align: middle;\n",
       "    }\n",
       "\n",
       "    .dataframe tbody tr th {\n",
       "        vertical-align: top;\n",
       "    }\n",
       "\n",
       "    .dataframe thead th {\n",
       "        text-align: right;\n",
       "    }\n",
       "</style>\n",
       "<table border=\"1\" class=\"dataframe\">\n",
       "  <thead>\n",
       "    <tr style=\"text-align: right;\">\n",
       "      <th></th>\n",
       "      <th>faixa-etaria</th>\n",
       "      <th>age</th>\n",
       "      <th>workclass</th>\n",
       "      <th>final-weight</th>\n",
       "      <th>education</th>\n",
       "      <th>education-num</th>\n",
       "      <th>marital-status</th>\n",
       "      <th>occupation</th>\n",
       "      <th>relationship</th>\n",
       "      <th>race</th>\n",
       "      <th>sex</th>\n",
       "      <th>capital-gain</th>\n",
       "      <th>capital-loos</th>\n",
       "      <th>hour-per-week</th>\n",
       "      <th>native-country</th>\n",
       "      <th>income</th>\n",
       "    </tr>\n",
       "  </thead>\n",
       "  <tbody>\n",
       "    <tr>\n",
       "      <th>0</th>\n",
       "      <td>Faixa 4</td>\n",
       "      <td>39</td>\n",
       "      <td>State-gov</td>\n",
       "      <td>77516</td>\n",
       "      <td>Bachelors</td>\n",
       "      <td>13</td>\n",
       "      <td>Never-married</td>\n",
       "      <td>Adm-clerical</td>\n",
       "      <td>Not-in-family</td>\n",
       "      <td>White</td>\n",
       "      <td>Male</td>\n",
       "      <td>2174</td>\n",
       "      <td>0</td>\n",
       "      <td>40</td>\n",
       "      <td>United-States</td>\n",
       "      <td>&lt;=50K</td>\n",
       "    </tr>\n",
       "    <tr>\n",
       "      <th>1</th>\n",
       "      <td>Faixa 5</td>\n",
       "      <td>50</td>\n",
       "      <td>Self-emp-not-inc</td>\n",
       "      <td>83311</td>\n",
       "      <td>Bachelors</td>\n",
       "      <td>13</td>\n",
       "      <td>Married-civ-spouse</td>\n",
       "      <td>Exec-managerial</td>\n",
       "      <td>Husband</td>\n",
       "      <td>White</td>\n",
       "      <td>Male</td>\n",
       "      <td>0</td>\n",
       "      <td>0</td>\n",
       "      <td>13</td>\n",
       "      <td>United-States</td>\n",
       "      <td>&lt;=50K</td>\n",
       "    </tr>\n",
       "    <tr>\n",
       "      <th>2</th>\n",
       "      <td>Faixa 4</td>\n",
       "      <td>38</td>\n",
       "      <td>Private</td>\n",
       "      <td>215646</td>\n",
       "      <td>HS-grad</td>\n",
       "      <td>9</td>\n",
       "      <td>Divorced</td>\n",
       "      <td>Handlers-cleaners</td>\n",
       "      <td>Not-in-family</td>\n",
       "      <td>White</td>\n",
       "      <td>Male</td>\n",
       "      <td>0</td>\n",
       "      <td>0</td>\n",
       "      <td>40</td>\n",
       "      <td>United-States</td>\n",
       "      <td>&lt;=50K</td>\n",
       "    </tr>\n",
       "    <tr>\n",
       "      <th>3</th>\n",
       "      <td>Faixa 5</td>\n",
       "      <td>53</td>\n",
       "      <td>Private</td>\n",
       "      <td>234721</td>\n",
       "      <td>11th</td>\n",
       "      <td>7</td>\n",
       "      <td>Married-civ-spouse</td>\n",
       "      <td>Handlers-cleaners</td>\n",
       "      <td>Husband</td>\n",
       "      <td>Black</td>\n",
       "      <td>Male</td>\n",
       "      <td>0</td>\n",
       "      <td>0</td>\n",
       "      <td>40</td>\n",
       "      <td>United-States</td>\n",
       "      <td>&lt;=50K</td>\n",
       "    </tr>\n",
       "    <tr>\n",
       "      <th>4</th>\n",
       "      <td>Faixa 3</td>\n",
       "      <td>28</td>\n",
       "      <td>Private</td>\n",
       "      <td>338409</td>\n",
       "      <td>Bachelors</td>\n",
       "      <td>13</td>\n",
       "      <td>Married-civ-spouse</td>\n",
       "      <td>Prof-specialty</td>\n",
       "      <td>Wife</td>\n",
       "      <td>Black</td>\n",
       "      <td>Female</td>\n",
       "      <td>0</td>\n",
       "      <td>0</td>\n",
       "      <td>40</td>\n",
       "      <td>Cuba</td>\n",
       "      <td>&lt;=50K</td>\n",
       "    </tr>\n",
       "  </tbody>\n",
       "</table>\n",
       "</div>"
      ],
      "text/plain": [
       "  faixa-etaria  age          workclass  final-weight   education  \\\n",
       "0      Faixa 4   39          State-gov         77516   Bachelors   \n",
       "1      Faixa 5   50   Self-emp-not-inc         83311   Bachelors   \n",
       "2      Faixa 4   38            Private        215646     HS-grad   \n",
       "3      Faixa 5   53            Private        234721        11th   \n",
       "4      Faixa 3   28            Private        338409   Bachelors   \n",
       "\n",
       "   education-num       marital-status          occupation    relationship  \\\n",
       "0             13        Never-married        Adm-clerical   Not-in-family   \n",
       "1             13   Married-civ-spouse     Exec-managerial         Husband   \n",
       "2              9             Divorced   Handlers-cleaners   Not-in-family   \n",
       "3              7   Married-civ-spouse   Handlers-cleaners         Husband   \n",
       "4             13   Married-civ-spouse      Prof-specialty            Wife   \n",
       "\n",
       "     race      sex  capital-gain  capital-loos  hour-per-week  native-country  \\\n",
       "0   White     Male          2174             0             40   United-States   \n",
       "1   White     Male             0             0             13   United-States   \n",
       "2   White     Male             0             0             40   United-States   \n",
       "3   Black     Male             0             0             40   United-States   \n",
       "4   Black   Female             0             0             40            Cuba   \n",
       "\n",
       "   income  \n",
       "0   <=50K  \n",
       "1   <=50K  \n",
       "2   <=50K  \n",
       "3   <=50K  \n",
       "4   <=50K  "
      ]
     },
     "execution_count": 52,
     "metadata": {},
     "output_type": "execute_result"
    }
   ],
   "source": [
    "dataset.head()"
   ]
  },
  {
   "cell_type": "code",
   "execution_count": 53,
   "metadata": {
    "id": "me7g8m-eBMa1"
   },
   "outputs": [],
   "source": [
    "dataset_apriori = dataset[['faixa-etaria', 'workclass', 'education', 'marital-status', 'relationship', 'occupation',\n",
    "                            'sex', 'native-country', 'income']]"
   ]
  },
  {
   "cell_type": "code",
   "execution_count": 54,
   "metadata": {
    "colab": {
     "base_uri": "https://localhost:8080/",
     "height": 228
    },
    "id": "Mzqwg4IEBpO-",
    "outputId": "cabe1e47-6e6a-47d9-9da6-f89f96f4964e"
   },
   "outputs": [
    {
     "data": {
      "text/html": [
       "<div>\n",
       "<style scoped>\n",
       "    .dataframe tbody tr th:only-of-type {\n",
       "        vertical-align: middle;\n",
       "    }\n",
       "\n",
       "    .dataframe tbody tr th {\n",
       "        vertical-align: top;\n",
       "    }\n",
       "\n",
       "    .dataframe thead th {\n",
       "        text-align: right;\n",
       "    }\n",
       "</style>\n",
       "<table border=\"1\" class=\"dataframe\">\n",
       "  <thead>\n",
       "    <tr style=\"text-align: right;\">\n",
       "      <th></th>\n",
       "      <th>faixa-etaria</th>\n",
       "      <th>workclass</th>\n",
       "      <th>education</th>\n",
       "      <th>marital-status</th>\n",
       "      <th>relationship</th>\n",
       "      <th>occupation</th>\n",
       "      <th>sex</th>\n",
       "      <th>native-country</th>\n",
       "      <th>income</th>\n",
       "    </tr>\n",
       "  </thead>\n",
       "  <tbody>\n",
       "    <tr>\n",
       "      <th>0</th>\n",
       "      <td>Faixa 4</td>\n",
       "      <td>State-gov</td>\n",
       "      <td>Bachelors</td>\n",
       "      <td>Never-married</td>\n",
       "      <td>Not-in-family</td>\n",
       "      <td>Adm-clerical</td>\n",
       "      <td>Male</td>\n",
       "      <td>United-States</td>\n",
       "      <td>&lt;=50K</td>\n",
       "    </tr>\n",
       "    <tr>\n",
       "      <th>1</th>\n",
       "      <td>Faixa 5</td>\n",
       "      <td>Self-emp-not-inc</td>\n",
       "      <td>Bachelors</td>\n",
       "      <td>Married-civ-spouse</td>\n",
       "      <td>Husband</td>\n",
       "      <td>Exec-managerial</td>\n",
       "      <td>Male</td>\n",
       "      <td>United-States</td>\n",
       "      <td>&lt;=50K</td>\n",
       "    </tr>\n",
       "    <tr>\n",
       "      <th>2</th>\n",
       "      <td>Faixa 4</td>\n",
       "      <td>Private</td>\n",
       "      <td>HS-grad</td>\n",
       "      <td>Divorced</td>\n",
       "      <td>Not-in-family</td>\n",
       "      <td>Handlers-cleaners</td>\n",
       "      <td>Male</td>\n",
       "      <td>United-States</td>\n",
       "      <td>&lt;=50K</td>\n",
       "    </tr>\n",
       "    <tr>\n",
       "      <th>3</th>\n",
       "      <td>Faixa 5</td>\n",
       "      <td>Private</td>\n",
       "      <td>11th</td>\n",
       "      <td>Married-civ-spouse</td>\n",
       "      <td>Husband</td>\n",
       "      <td>Handlers-cleaners</td>\n",
       "      <td>Male</td>\n",
       "      <td>United-States</td>\n",
       "      <td>&lt;=50K</td>\n",
       "    </tr>\n",
       "    <tr>\n",
       "      <th>4</th>\n",
       "      <td>Faixa 3</td>\n",
       "      <td>Private</td>\n",
       "      <td>Bachelors</td>\n",
       "      <td>Married-civ-spouse</td>\n",
       "      <td>Wife</td>\n",
       "      <td>Prof-specialty</td>\n",
       "      <td>Female</td>\n",
       "      <td>Cuba</td>\n",
       "      <td>&lt;=50K</td>\n",
       "    </tr>\n",
       "  </tbody>\n",
       "</table>\n",
       "</div>"
      ],
      "text/plain": [
       "  faixa-etaria          workclass   education       marital-status  \\\n",
       "0      Faixa 4          State-gov   Bachelors        Never-married   \n",
       "1      Faixa 5   Self-emp-not-inc   Bachelors   Married-civ-spouse   \n",
       "2      Faixa 4            Private     HS-grad             Divorced   \n",
       "3      Faixa 5            Private        11th   Married-civ-spouse   \n",
       "4      Faixa 3            Private   Bachelors   Married-civ-spouse   \n",
       "\n",
       "     relationship          occupation      sex  native-country  income  \n",
       "0   Not-in-family        Adm-clerical     Male   United-States   <=50K  \n",
       "1         Husband     Exec-managerial     Male   United-States   <=50K  \n",
       "2   Not-in-family   Handlers-cleaners     Male   United-States   <=50K  \n",
       "3         Husband   Handlers-cleaners     Male   United-States   <=50K  \n",
       "4            Wife      Prof-specialty   Female            Cuba   <=50K  "
      ]
     },
     "execution_count": 54,
     "metadata": {},
     "output_type": "execute_result"
    }
   ],
   "source": [
    "dataset_apriori.head()"
   ]
  },
  {
   "cell_type": "code",
   "execution_count": 56,
   "metadata": {
    "colab": {
     "base_uri": "https://localhost:8080/",
     "height": 55
    },
    "id": "fHTCBZ3eBtWl",
    "outputId": "1b462e02-12a0-4210-96c1-a89ba1c9f620"
   },
   "outputs": [
    {
     "data": {
      "text/plain": [
       "(32561, 9)"
      ]
     },
     "execution_count": 56,
     "metadata": {},
     "output_type": "execute_result"
    }
   ],
   "source": [
    "dataset_apriori.shape"
   ]
  },
  {
   "cell_type": "code",
   "execution_count": 57,
   "metadata": {},
   "outputs": [
    {
     "data": {
      "text/plain": [
       "(1000, 9)"
      ]
     },
     "execution_count": 57,
     "metadata": {},
     "output_type": "execute_result"
    }
   ],
   "source": [
    "dataset_apriori = dataset_apriori.sample(n=1000)\n",
    "dataset_apriori.shape"
   ]
  },
  {
   "cell_type": "code",
   "execution_count": 58,
   "metadata": {
    "colab": {
     "base_uri": "https://localhost:8080/",
     "height": 55
    },
    "id": "_SHkyv6ZBwrF",
    "outputId": "5ca28fbd-31b1-415e-fa9f-af134480e21e"
   },
   "outputs": [],
   "source": [
    "transacoes = []\n",
    "\n",
    "for i in range(len(dataset_apriori)):\n",
    "    transacoes.append([str(dataset_apriori.values[i, j]) for j in range(dataset_apriori.shape[1])])"
   ]
  },
  {
   "cell_type": "code",
   "execution_count": 59,
   "metadata": {
    "colab": {
     "base_uri": "https://localhost:8080/",
     "height": 55
    },
    "id": "lHOiE4bTCho1",
    "outputId": "7989a899-9e36-477f-986b-32b5b73743b3"
   },
   "outputs": [
    {
     "data": {
      "text/plain": [
       "1000"
      ]
     },
     "execution_count": 59,
     "metadata": {},
     "output_type": "execute_result"
    }
   ],
   "source": [
    "len(transacoes)"
   ]
  },
  {
   "cell_type": "code",
   "execution_count": 60,
   "metadata": {},
   "outputs": [
    {
     "data": {
      "text/plain": [
       "[['Faixa 3',\n",
       "  ' Private',\n",
       "  ' Masters',\n",
       "  ' Never-married',\n",
       "  ' Not-in-family',\n",
       "  ' Machine-op-inspct',\n",
       "  ' Female',\n",
       "  ' United-States',\n",
       "  ' <=50K'],\n",
       " ['Faixa 5',\n",
       "  ' ?',\n",
       "  ' HS-grad',\n",
       "  ' Married-civ-spouse',\n",
       "  ' Husband',\n",
       "  ' ?',\n",
       "  ' Male',\n",
       "  ' United-States',\n",
       "  ' <=50K']]"
      ]
     },
     "execution_count": 60,
     "metadata": {},
     "output_type": "execute_result"
    }
   ],
   "source": [
    "transacoes[:2]"
   ]
  },
  {
   "cell_type": "code",
   "execution_count": 61,
   "metadata": {
    "colab": {
     "base_uri": "https://localhost:8080/",
     "height": 196
    },
    "id": "ueEcXdncCpyI",
    "outputId": "a89a5377-a643-470a-dc69-5bbd367a5934"
   },
   "outputs": [
    {
     "name": "stdout",
     "output_type": "stream",
     "text": [
      "Requirement already satisfied: apyori in c:\\users\\danie\\anaconda3\\lib\\site-packages (1.1.2)\n"
     ]
    }
   ],
   "source": [
    "!pip install apyori"
   ]
  },
  {
   "cell_type": "code",
   "execution_count": 62,
   "metadata": {
    "id": "epVx6fb5CuvB"
   },
   "outputs": [],
   "source": [
    "from apyori import apriori"
   ]
  },
  {
   "cell_type": "code",
   "execution_count": 63,
   "metadata": {},
   "outputs": [],
   "source": [
    "regras = apriori(transacoes, min_support = 0.3, min_confidence = 0.2)\n",
    "resultados = list(regras)"
   ]
  },
  {
   "cell_type": "code",
   "execution_count": 64,
   "metadata": {
    "colab": {
     "base_uri": "https://localhost:8080/",
     "height": 55
    },
    "id": "lJfgeQTeDCiL",
    "outputId": "854f3766-0e19-48f3-d909-1b1430b6cd6c"
   },
   "outputs": [
    {
     "data": {
      "text/plain": [
       "35"
      ]
     },
     "execution_count": 64,
     "metadata": {},
     "output_type": "execute_result"
    }
   ],
   "source": [
    "len(resultados)"
   ]
  },
  {
   "cell_type": "code",
   "execution_count": 65,
   "metadata": {
    "colab": {
     "base_uri": "https://localhost:8080/",
     "height": 671
    },
    "id": "vY5bouIXDEwV",
    "outputId": "0b173d1d-849e-4697-cf84-0b30a633d24b"
   },
   "outputs": [
    {
     "data": {
      "text/plain": [
       "[RelationRecord(items=frozenset({' <=50K'}), support=0.767, ordered_statistics=[OrderedStatistic(items_base=frozenset(), items_add=frozenset({' <=50K'}), confidence=0.767, lift=1.0)]),\n",
       " RelationRecord(items=frozenset({' Female'}), support=0.356, ordered_statistics=[OrderedStatistic(items_base=frozenset(), items_add=frozenset({' Female'}), confidence=0.356, lift=1.0)]),\n",
       " RelationRecord(items=frozenset({' HS-grad'}), support=0.338, ordered_statistics=[OrderedStatistic(items_base=frozenset(), items_add=frozenset({' HS-grad'}), confidence=0.338, lift=1.0)]),\n",
       " RelationRecord(items=frozenset({' Husband'}), support=0.403, ordered_statistics=[OrderedStatistic(items_base=frozenset(), items_add=frozenset({' Husband'}), confidence=0.403, lift=1.0)]),\n",
       " RelationRecord(items=frozenset({' Male'}), support=0.644, ordered_statistics=[OrderedStatistic(items_base=frozenset(), items_add=frozenset({' Male'}), confidence=0.644, lift=1.0)]),\n",
       " RelationRecord(items=frozenset({' Married-civ-spouse'}), support=0.456, ordered_statistics=[OrderedStatistic(items_base=frozenset(), items_add=frozenset({' Married-civ-spouse'}), confidence=0.456, lift=1.0)]),\n",
       " RelationRecord(items=frozenset({' Never-married'}), support=0.345, ordered_statistics=[OrderedStatistic(items_base=frozenset(), items_add=frozenset({' Never-married'}), confidence=0.345, lift=1.0)]),\n",
       " RelationRecord(items=frozenset({' Private'}), support=0.701, ordered_statistics=[OrderedStatistic(items_base=frozenset(), items_add=frozenset({' Private'}), confidence=0.701, lift=1.0)]),\n",
       " RelationRecord(items=frozenset({' United-States'}), support=0.883, ordered_statistics=[OrderedStatistic(items_base=frozenset(), items_add=frozenset({' United-States'}), confidence=0.883, lift=1.0)]),\n",
       " RelationRecord(items=frozenset({' <=50K', ' Female'}), support=0.327, ordered_statistics=[OrderedStatistic(items_base=frozenset(), items_add=frozenset({' <=50K', ' Female'}), confidence=0.327, lift=1.0), OrderedStatistic(items_base=frozenset({' <=50K'}), items_add=frozenset({' Female'}), confidence=0.4263363754889179, lift=1.1975740884520165), OrderedStatistic(items_base=frozenset({' Female'}), items_add=frozenset({' <=50K'}), confidence=0.9185393258426967, lift=1.1975740884520165)]),\n",
       " RelationRecord(items=frozenset({' <=50K', ' Male'}), support=0.44, ordered_statistics=[OrderedStatistic(items_base=frozenset(), items_add=frozenset({' <=50K', ' Male'}), confidence=0.44, lift=1.0), OrderedStatistic(items_base=frozenset({' <=50K'}), items_add=frozenset({' Male'}), confidence=0.5736636245110821, lift=0.8907820256383262), OrderedStatistic(items_base=frozenset({' Male'}), items_add=frozenset({' <=50K'}), confidence=0.6832298136645962, lift=0.8907820256383262)]),\n",
       " RelationRecord(items=frozenset({' <=50K', ' Never-married'}), support=0.322, ordered_statistics=[OrderedStatistic(items_base=frozenset(), items_add=frozenset({' <=50K', ' Never-married'}), confidence=0.322, lift=1.0), OrderedStatistic(items_base=frozenset({' <=50K'}), items_add=frozenset({' Never-married'}), confidence=0.4198174706649283, lift=1.2168622338113866), OrderedStatistic(items_base=frozenset({' Never-married'}), items_add=frozenset({' <=50K'}), confidence=0.9333333333333335, lift=1.2168622338113866)]),\n",
       " RelationRecord(items=frozenset({' <=50K', ' Private'}), support=0.55, ordered_statistics=[OrderedStatistic(items_base=frozenset(), items_add=frozenset({' <=50K', ' Private'}), confidence=0.55, lift=1.0), OrderedStatistic(items_base=frozenset({' <=50K'}), items_add=frozenset({' Private'}), confidence=0.7170795306388528, lift=1.0229379894990767), OrderedStatistic(items_base=frozenset({' Private'}), items_add=frozenset({' <=50K'}), confidence=0.7845934379457918, lift=1.0229379894990767)]),\n",
       " RelationRecord(items=frozenset({' United-States', ' <=50K'}), support=0.665, ordered_statistics=[OrderedStatistic(items_base=frozenset(), items_add=frozenset({' United-States', ' <=50K'}), confidence=0.665, lift=1.0), OrderedStatistic(items_base=frozenset({' <=50K'}), items_add=frozenset({' United-States'}), confidence=0.8670143415906129, lift=0.9818961965918606), OrderedStatistic(items_base=frozenset({' United-States'}), items_add=frozenset({' <=50K'}), confidence=0.753114382785957, lift=0.9818961965918604)]),\n",
       " RelationRecord(items=frozenset({' United-States', ' Female'}), support=0.312, ordered_statistics=[OrderedStatistic(items_base=frozenset(), items_add=frozenset({' United-States', ' Female'}), confidence=0.312, lift=1.0), OrderedStatistic(items_base=frozenset({' Female'}), items_add=frozenset({' United-States'}), confidence=0.8764044943820225, lift=0.9925305712140685), OrderedStatistic(items_base=frozenset({' United-States'}), items_add=frozenset({' Female'}), confidence=0.35334088335220837, lift=0.9925305712140685)]),\n",
       " RelationRecord(items=frozenset({' HS-grad', ' United-States'}), support=0.31, ordered_statistics=[OrderedStatistic(items_base=frozenset(), items_add=frozenset({' HS-grad', ' United-States'}), confidence=0.31, lift=1.0), OrderedStatistic(items_base=frozenset({' HS-grad'}), items_add=frozenset({' United-States'}), confidence=0.9171597633136094, lift=1.0386860286677342), OrderedStatistic(items_base=frozenset({' United-States'}), items_add=frozenset({' HS-grad'}), confidence=0.3510758776896942, lift=1.0386860286677344)]),\n",
       " RelationRecord(items=frozenset({' Husband', ' Male'}), support=0.403, ordered_statistics=[OrderedStatistic(items_base=frozenset(), items_add=frozenset({' Husband', ' Male'}), confidence=0.403, lift=1.0), OrderedStatistic(items_base=frozenset({' Husband'}), items_add=frozenset({' Male'}), confidence=1.0, lift=1.5527950310559007), OrderedStatistic(items_base=frozenset({' Male'}), items_add=frozenset({' Husband'}), confidence=0.6257763975155279, lift=1.5527950310559004)]),\n",
       " RelationRecord(items=frozenset({' Husband', ' Married-civ-spouse'}), support=0.403, ordered_statistics=[OrderedStatistic(items_base=frozenset(), items_add=frozenset({' Husband', ' Married-civ-spouse'}), confidence=0.403, lift=1.0), OrderedStatistic(items_base=frozenset({' Husband'}), items_add=frozenset({' Married-civ-spouse'}), confidence=1.0, lift=2.1929824561403506), OrderedStatistic(items_base=frozenset({' Married-civ-spouse'}), items_add=frozenset({' Husband'}), confidence=0.8837719298245614, lift=2.1929824561403506)]),\n",
       " RelationRecord(items=frozenset({' United-States', ' Husband'}), support=0.362, ordered_statistics=[OrderedStatistic(items_base=frozenset(), items_add=frozenset({' United-States', ' Husband'}), confidence=0.362, lift=1.0), OrderedStatistic(items_base=frozenset({' Husband'}), items_add=frozenset({' United-States'}), confidence=0.8982630272952853, lift=1.0172854216254645), OrderedStatistic(items_base=frozenset({' United-States'}), items_add=frozenset({' Husband'}), confidence=0.4099660249150623, lift=1.0172854216254648)]),\n",
       " RelationRecord(items=frozenset({' Married-civ-spouse', ' Male'}), support=0.407, ordered_statistics=[OrderedStatistic(items_base=frozenset(), items_add=frozenset({' Male', ' Married-civ-spouse'}), confidence=0.407, lift=1.0), OrderedStatistic(items_base=frozenset({' Male'}), items_add=frozenset({' Married-civ-spouse'}), confidence=0.6319875776397514, lift=1.3859376702626127), OrderedStatistic(items_base=frozenset({' Married-civ-spouse'}), items_add=frozenset({' Male'}), confidence=0.8925438596491228, lift=1.385937670262613)]),\n",
       " RelationRecord(items=frozenset({' Private', ' Male'}), support=0.442, ordered_statistics=[OrderedStatistic(items_base=frozenset(), items_add=frozenset({' Private', ' Male'}), confidence=0.442, lift=1.0), OrderedStatistic(items_base=frozenset({' Male'}), items_add=frozenset({' Private'}), confidence=0.6863354037267081, lift=0.9790804618070016), OrderedStatistic(items_base=frozenset({' Private'}), items_add=frozenset({' Male'}), confidence=0.630527817403709, lift=0.9790804618070015)]),\n",
       " RelationRecord(items=frozenset({' United-States', ' Male'}), support=0.571, ordered_statistics=[OrderedStatistic(items_base=frozenset(), items_add=frozenset({' United-States', ' Male'}), confidence=0.571, lift=1.0), OrderedStatistic(items_base=frozenset({' Male'}), items_add=frozenset({' United-States'}), confidence=0.8866459627329192, lift=1.0041290631176887), OrderedStatistic(items_base=frozenset({' United-States'}), items_add=frozenset({' Male'}), confidence=0.6466591166477915, lift=1.0041290631176887)]),\n",
       " RelationRecord(items=frozenset({' Private', ' Married-civ-spouse'}), support=0.304, ordered_statistics=[OrderedStatistic(items_base=frozenset(), items_add=frozenset({' Private', ' Married-civ-spouse'}), confidence=0.304, lift=1.0), OrderedStatistic(items_base=frozenset({' Married-civ-spouse'}), items_add=frozenset({' Private'}), confidence=0.6666666666666666, lift=0.9510223490252021), OrderedStatistic(items_base=frozenset({' Private'}), items_add=frozenset({' Married-civ-spouse'}), confidence=0.43366619115549215, lift=0.9510223490252021)]),\n",
       " RelationRecord(items=frozenset({' United-States', ' Married-civ-spouse'}), support=0.408, ordered_statistics=[OrderedStatistic(items_base=frozenset(), items_add=frozenset({' United-States', ' Married-civ-spouse'}), confidence=0.408, lift=1.0), OrderedStatistic(items_base=frozenset({' Married-civ-spouse'}), items_add=frozenset({' United-States'}), confidence=0.894736842105263, lift=1.0132920069142277), OrderedStatistic(items_base=frozenset({' United-States'}), items_add=frozenset({' Married-civ-spouse'}), confidence=0.46206115515288787, lift=1.0132920069142277)]),\n",
       " RelationRecord(items=frozenset({' United-States', ' Never-married'}), support=0.303, ordered_statistics=[OrderedStatistic(items_base=frozenset(), items_add=frozenset({' United-States', ' Never-married'}), confidence=0.303, lift=1.0), OrderedStatistic(items_base=frozenset({' Never-married'}), items_add=frozenset({' United-States'}), confidence=0.8782608695652174, lift=0.9946329213649121), OrderedStatistic(items_base=frozenset({' United-States'}), items_add=frozenset({' Never-married'}), confidence=0.34314835787089465, lift=0.9946329213649121)]),\n",
       " RelationRecord(items=frozenset({' United-States', ' Private'}), support=0.611, ordered_statistics=[OrderedStatistic(items_base=frozenset(), items_add=frozenset({' United-States', ' Private'}), confidence=0.611, lift=1.0), OrderedStatistic(items_base=frozenset({' Private'}), items_add=frozenset({' United-States'}), confidence=0.8716119828815978, lift=0.9871030383710054), OrderedStatistic(items_base=frozenset({' United-States'}), items_add=frozenset({' Private'}), confidence=0.6919592298980747, lift=0.9871030383710053)]),\n",
       " RelationRecord(items=frozenset({' <=50K', ' Private', ' Male'}), support=0.31, ordered_statistics=[OrderedStatistic(items_base=frozenset(), items_add=frozenset({' <=50K', ' Private', ' Male'}), confidence=0.31, lift=1.0), OrderedStatistic(items_base=frozenset({' <=50K'}), items_add=frozenset({' Private', ' Male'}), confidence=0.4041720990873533, lift=0.9144165137722925), OrderedStatistic(items_base=frozenset({' Male'}), items_add=frozenset({' <=50K', ' Private'}), confidence=0.48136645962732916, lift=0.8752117447769621), OrderedStatistic(items_base=frozenset({' Private'}), items_add=frozenset({' <=50K', ' Male'}), confidence=0.442225392296719, lift=1.0050577097652704), OrderedStatistic(items_base=frozenset({' <=50K', ' Male'}), items_add=frozenset({' Private'}), confidence=0.7045454545454546, lift=1.0050577097652704), OrderedStatistic(items_base=frozenset({' <=50K', ' Private'}), items_add=frozenset({' Male'}), confidence=0.5636363636363636, lift=0.8752117447769621), OrderedStatistic(items_base=frozenset({' Private', ' Male'}), items_add=frozenset({' <=50K'}), confidence=0.7013574660633484, lift=0.9144165137722925)]),\n",
       " RelationRecord(items=frozenset({' United-States', ' <=50K', ' Male'}), support=0.38, ordered_statistics=[OrderedStatistic(items_base=frozenset(), items_add=frozenset({' United-States', ' <=50K', ' Male'}), confidence=0.38, lift=1.0), OrderedStatistic(items_base=frozenset({' <=50K'}), items_add=frozenset({' United-States', ' Male'}), confidence=0.4954367666232073, lift=0.8676650904084191), OrderedStatistic(items_base=frozenset({' Male'}), items_add=frozenset({' United-States', ' <=50K'}), confidence=0.5900621118012422, lift=0.8873114463176575), OrderedStatistic(items_base=frozenset({' United-States'}), items_add=frozenset({' <=50K', ' Male'}), confidence=0.43035107587768967, lift=0.9780706269947492), OrderedStatistic(items_base=frozenset({' <=50K', ' Male'}), items_add=frozenset({' United-States'}), confidence=0.8636363636363636, lift=0.9780706269947493), OrderedStatistic(items_base=frozenset({' United-States', ' <=50K'}), items_add=frozenset({' Male'}), confidence=0.5714285714285714, lift=0.8873114463176575), OrderedStatistic(items_base=frozenset({' United-States', ' Male'}), items_add=frozenset({' <=50K'}), confidence=0.6654991243432575, lift=0.8676650904084192)]),\n",
       " RelationRecord(items=frozenset({' United-States', ' <=50K', ' Private'}), support=0.471, ordered_statistics=[OrderedStatistic(items_base=frozenset(), items_add=frozenset({' United-States', ' <=50K', ' Private'}), confidence=0.471, lift=1.0), OrderedStatistic(items_base=frozenset({' <=50K'}), items_add=frozenset({' United-States', ' Private'}), confidence=0.6140808344198174, lift=1.0050422821928273), OrderedStatistic(items_base=frozenset({' Private'}), items_add=frozenset({' United-States', ' <=50K'}), confidence=0.6718972895863052, lift=1.0103718640395567), OrderedStatistic(items_base=frozenset({' United-States'}), items_add=frozenset({' <=50K', ' Private'}), confidence=0.5334088335220838, lift=0.969834242767425), OrderedStatistic(items_base=frozenset({' <=50K', ' Private'}), items_add=frozenset({' United-States'}), confidence=0.8563636363636362, lift=0.9698342427674249), OrderedStatistic(items_base=frozenset({' United-States', ' <=50K'}), items_add=frozenset({' Private'}), confidence=0.7082706766917293, lift=1.0103718640395567), OrderedStatistic(items_base=frozenset({' United-States', ' Private'}), items_add=frozenset({' <=50K'}), confidence=0.7708674304418985, lift=1.0050422821928273)]),\n",
       " RelationRecord(items=frozenset({' Married-civ-spouse', ' Husband', ' Male'}), support=0.403, ordered_statistics=[OrderedStatistic(items_base=frozenset(), items_add=frozenset({' Husband', ' Male', ' Married-civ-spouse'}), confidence=0.403, lift=1.0), OrderedStatistic(items_base=frozenset({' Husband'}), items_add=frozenset({' Male', ' Married-civ-spouse'}), confidence=1.0, lift=2.4570024570024573), OrderedStatistic(items_base=frozenset({' Male'}), items_add=frozenset({' Husband', ' Married-civ-spouse'}), confidence=0.6257763975155279, lift=1.5527950310559004), OrderedStatistic(items_base=frozenset({' Married-civ-spouse'}), items_add=frozenset({' Husband', ' Male'}), confidence=0.8837719298245614, lift=2.1929824561403506), OrderedStatistic(items_base=frozenset({' Husband', ' Male'}), items_add=frozenset({' Married-civ-spouse'}), confidence=1.0, lift=2.1929824561403506), OrderedStatistic(items_base=frozenset({' Husband', ' Married-civ-spouse'}), items_add=frozenset({' Male'}), confidence=1.0, lift=1.5527950310559007), OrderedStatistic(items_base=frozenset({' Married-civ-spouse', ' Male'}), items_add=frozenset({' Husband'}), confidence=0.9901719901719903, lift=2.4570024570024573)]),\n",
       " RelationRecord(items=frozenset({' United-States', ' Husband', ' Male'}), support=0.362, ordered_statistics=[OrderedStatistic(items_base=frozenset(), items_add=frozenset({' United-States', ' Husband', ' Male'}), confidence=0.362, lift=1.0), OrderedStatistic(items_base=frozenset({' Husband'}), items_add=frozenset({' United-States', ' Male'}), confidence=0.8982630272952853, lift=1.5731401528814104), OrderedStatistic(items_base=frozenset({' Male'}), items_add=frozenset({' United-States', ' Husband'}), confidence=0.562111801242236, lift=1.5527950310559007), OrderedStatistic(items_base=frozenset({' United-States'}), items_add=frozenset({' Husband', ' Male'}), confidence=0.4099660249150623, lift=1.0172854216254648), OrderedStatistic(items_base=frozenset({' Husband', ' Male'}), items_add=frozenset({' United-States'}), confidence=0.8982630272952853, lift=1.0172854216254645), OrderedStatistic(items_base=frozenset({' United-States', ' Husband'}), items_add=frozenset({' Male'}), confidence=1.0, lift=1.5527950310559007), OrderedStatistic(items_base=frozenset({' United-States', ' Male'}), items_add=frozenset({' Husband'}), confidence=0.6339754816112084, lift=1.5731401528814104)]),\n",
       " RelationRecord(items=frozenset({' United-States', ' Husband', ' Married-civ-spouse'}), support=0.362, ordered_statistics=[OrderedStatistic(items_base=frozenset(), items_add=frozenset({' United-States', ' Husband', ' Married-civ-spouse'}), confidence=0.362, lift=1.0), OrderedStatistic(items_base=frozenset({' Husband'}), items_add=frozenset({' United-States', ' Married-civ-spouse'}), confidence=0.8982630272952853, lift=2.2016250669002093), OrderedStatistic(items_base=frozenset({' Married-civ-spouse'}), items_add=frozenset({' United-States', ' Husband'}), confidence=0.7938596491228069, lift=2.1929824561403506), OrderedStatistic(items_base=frozenset({' United-States'}), items_add=frozenset({' Husband', ' Married-civ-spouse'}), confidence=0.4099660249150623, lift=1.0172854216254648), OrderedStatistic(items_base=frozenset({' Husband', ' Married-civ-spouse'}), items_add=frozenset({' United-States'}), confidence=0.8982630272952853, lift=1.0172854216254645), OrderedStatistic(items_base=frozenset({' United-States', ' Husband'}), items_add=frozenset({' Married-civ-spouse'}), confidence=1.0, lift=2.1929824561403506), OrderedStatistic(items_base=frozenset({' United-States', ' Married-civ-spouse'}), items_add=frozenset({' Husband'}), confidence=0.8872549019607844, lift=2.2016250669002093)]),\n",
       " RelationRecord(items=frozenset({' Married-civ-spouse', ' Male', ' United-States'}), support=0.366, ordered_statistics=[OrderedStatistic(items_base=frozenset(), items_add=frozenset({' United-States', ' Male', ' Married-civ-spouse'}), confidence=0.366, lift=1.0), OrderedStatistic(items_base=frozenset({' Male'}), items_add=frozenset({' United-States', ' Married-civ-spouse'}), confidence=0.5683229813664596, lift=1.3929484837413229), OrderedStatistic(items_base=frozenset({' Married-civ-spouse'}), items_add=frozenset({' United-States', ' Male'}), confidence=0.8026315789473684, lift=1.4056595077887364), OrderedStatistic(items_base=frozenset({' United-States'}), items_add=frozenset({' Male', ' Married-civ-spouse'}), confidence=0.41449603624009057, lift=1.018417779459682), OrderedStatistic(items_base=frozenset({' Married-civ-spouse', ' Male'}), items_add=frozenset({' United-States'}), confidence=0.8992628992628993, lift=1.018417779459682), OrderedStatistic(items_base=frozenset({' United-States', ' Male'}), items_add=frozenset({' Married-civ-spouse'}), confidence=0.6409807355516638, lift=1.4056595077887364), OrderedStatistic(items_base=frozenset({' United-States', ' Married-civ-spouse'}), items_add=frozenset({' Male'}), confidence=0.8970588235294118, lift=1.3929484837413226)]),\n",
       " RelationRecord(items=frozenset({' United-States', ' Private', ' Male'}), support=0.382, ordered_statistics=[OrderedStatistic(items_base=frozenset(), items_add=frozenset({' United-States', ' Private', ' Male'}), confidence=0.382, lift=1.0), OrderedStatistic(items_base=frozenset({' Male'}), items_add=frozenset({' United-States', ' Private'}), confidence=0.593167701863354, lift=0.9708145693344583), OrderedStatistic(items_base=frozenset({' Private'}), items_add=frozenset({' United-States', ' Male'}), confidence=0.5449358059914409, lift=0.9543534255541872), OrderedStatistic(items_base=frozenset({' United-States'}), items_add=frozenset({' Private', ' Male'}), confidence=0.43261608154020387, lift=0.97876941524933), OrderedStatistic(items_base=frozenset({' Private', ' Male'}), items_add=frozenset({' United-States'}), confidence=0.8642533936651584, lift=0.97876941524933), OrderedStatistic(items_base=frozenset({' United-States', ' Male'}), items_add=frozenset({' Private'}), confidence=0.6690017513134852, lift=0.9543534255541871), OrderedStatistic(items_base=frozenset({' United-States', ' Private'}), items_add=frozenset({' Male'}), confidence=0.6252045826513912, lift=0.9708145693344584)]),\n",
       " RelationRecord(items=frozenset({' Married-civ-spouse', ' Husband', ' Male', ' United-States'}), support=0.362, ordered_statistics=[OrderedStatistic(items_base=frozenset(), items_add=frozenset({' Married-civ-spouse', ' Husband', ' Male', ' United-States'}), confidence=0.362, lift=1.0), OrderedStatistic(items_base=frozenset({' Husband'}), items_add=frozenset({' United-States', ' Male', ' Married-civ-spouse'}), confidence=0.8982630272952853, lift=2.454270566380561), OrderedStatistic(items_base=frozenset({' Male'}), items_add=frozenset({' United-States', ' Husband', ' Married-civ-spouse'}), confidence=0.562111801242236, lift=1.5527950310559007), OrderedStatistic(items_base=frozenset({' Married-civ-spouse'}), items_add=frozenset({' United-States', ' Husband', ' Male'}), confidence=0.7938596491228069, lift=2.1929824561403506), OrderedStatistic(items_base=frozenset({' United-States'}), items_add=frozenset({' Husband', ' Male', ' Married-civ-spouse'}), confidence=0.4099660249150623, lift=1.0172854216254648), OrderedStatistic(items_base=frozenset({' Husband', ' Male'}), items_add=frozenset({' United-States', ' Married-civ-spouse'}), confidence=0.8982630272952853, lift=2.2016250669002093), OrderedStatistic(items_base=frozenset({' Husband', ' Married-civ-spouse'}), items_add=frozenset({' United-States', ' Male'}), confidence=0.8982630272952853, lift=1.5731401528814104), OrderedStatistic(items_base=frozenset({' United-States', ' Husband'}), items_add=frozenset({' Male', ' Married-civ-spouse'}), confidence=1.0, lift=2.4570024570024573), OrderedStatistic(items_base=frozenset({' Married-civ-spouse', ' Male'}), items_add=frozenset({' United-States', ' Husband'}), confidence=0.8894348894348895, lift=2.4570024570024573), OrderedStatistic(items_base=frozenset({' United-States', ' Male'}), items_add=frozenset({' Husband', ' Married-civ-spouse'}), confidence=0.6339754816112084, lift=1.5731401528814104), OrderedStatistic(items_base=frozenset({' United-States', ' Married-civ-spouse'}), items_add=frozenset({' Husband', ' Male'}), confidence=0.8872549019607844, lift=2.2016250669002093), OrderedStatistic(items_base=frozenset({' Married-civ-spouse', ' Husband', ' Male'}), items_add=frozenset({' United-States'}), confidence=0.8982630272952853, lift=1.0172854216254645), OrderedStatistic(items_base=frozenset({' United-States', ' Husband', ' Male'}), items_add=frozenset({' Married-civ-spouse'}), confidence=1.0, lift=2.1929824561403506), OrderedStatistic(items_base=frozenset({' United-States', ' Husband', ' Married-civ-spouse'}), items_add=frozenset({' Male'}), confidence=1.0, lift=1.5527950310559007), OrderedStatistic(items_base=frozenset({' Married-civ-spouse', ' Male', ' United-States'}), items_add=frozenset({' Husband'}), confidence=0.9890710382513661, lift=2.454270566380561)])]"
      ]
     },
     "execution_count": 65,
     "metadata": {},
     "output_type": "execute_result"
    }
   ],
   "source": [
    "resultados"
   ]
  },
  {
   "cell_type": "code",
   "execution_count": 79,
   "metadata": {
    "colab": {
     "base_uri": "https://localhost:8080/",
     "height": 55
    },
    "id": "tTS_tzdUDl52",
    "outputId": "7b68b616-bb74-44c1-d69f-16ba3a6924d2"
   },
   "outputs": [
    {
     "data": {
      "text/plain": [
       "0.55"
      ]
     },
     "execution_count": 79,
     "metadata": {},
     "output_type": "execute_result"
    }
   ],
   "source": [
    "resultados[12][2][0][2]"
   ]
  },
  {
   "cell_type": "code",
   "execution_count": 80,
   "metadata": {},
   "outputs": [
    {
     "data": {
      "text/plain": [
       "([[0, 0.767],\n",
       "  [1, 0.356],\n",
       "  [2, 0.338],\n",
       "  [3, 0.403],\n",
       "  [4, 0.644],\n",
       "  [5, 0.456],\n",
       "  [6, 0.345],\n",
       "  [7, 0.701],\n",
       "  [8, 0.883],\n",
       "  [9, 0.327],\n",
       "  [10, 0.44],\n",
       "  [11, 0.322],\n",
       "  [12, 0.55],\n",
       "  [13, 0.665],\n",
       "  [14, 0.312],\n",
       "  [15, 0.31],\n",
       "  [16, 0.403],\n",
       "  [17, 0.403],\n",
       "  [18, 0.362],\n",
       "  [19, 0.407],\n",
       "  [20, 0.442],\n",
       "  [21, 0.571],\n",
       "  [22, 0.304],\n",
       "  [23, 0.408],\n",
       "  [24, 0.303],\n",
       "  [25, 0.611],\n",
       "  [26, 0.31],\n",
       "  [27, 0.38],\n",
       "  [28, 0.471],\n",
       "  [29, 0.403],\n",
       "  [30, 0.362],\n",
       "  [31, 0.362],\n",
       "  [32, 0.366],\n",
       "  [33, 0.382],\n",
       "  [34, 0.362]],\n",
       " [[0, 0.767],\n",
       "  [1, 0.356],\n",
       "  [2, 0.338],\n",
       "  [3, 0.403],\n",
       "  [4, 0.644],\n",
       "  [5, 0.456],\n",
       "  [6, 0.345],\n",
       "  [7, 0.701],\n",
       "  [8, 0.883],\n",
       "  [9, 0.327],\n",
       "  [10, 0.44],\n",
       "  [11, 0.322],\n",
       "  [12, 0.55],\n",
       "  [13, 0.665],\n",
       "  [14, 0.312],\n",
       "  [15, 0.31],\n",
       "  [16, 0.403],\n",
       "  [17, 0.403],\n",
       "  [18, 0.362],\n",
       "  [19, 0.407],\n",
       "  [20, 0.442],\n",
       "  [21, 0.571],\n",
       "  [22, 0.304],\n",
       "  [23, 0.408],\n",
       "  [24, 0.303],\n",
       "  [25, 0.611],\n",
       "  [26, 0.31],\n",
       "  [27, 0.38],\n",
       "  [28, 0.471],\n",
       "  [29, 0.403],\n",
       "  [30, 0.362],\n",
       "  [31, 0.362],\n",
       "  [32, 0.366],\n",
       "  [33, 0.382],\n",
       "  [34, 0.362]])"
      ]
     },
     "execution_count": 80,
     "metadata": {},
     "output_type": "execute_result"
    }
   ],
   "source": [
    "confianca = []\n",
    "suporte = []\n",
    "\n",
    "for i in range(len(resultados)):\n",
    "    con = [i, resultados[i][2][0][2]]\n",
    "    sup = [i, resultados[i][1]]\n",
    "    confianca.append(con)\n",
    "    suporte.append(sup)\n",
    "\n",
    "confianca, suporte"
   ]
  },
  {
   "cell_type": "code",
   "execution_count": 91,
   "metadata": {},
   "outputs": [],
   "source": [
    "suporte = pd.DataFrame(suporte)"
   ]
  },
  {
   "cell_type": "code",
   "execution_count": 92,
   "metadata": {},
   "outputs": [
    {
     "data": {
      "text/html": [
       "<div>\n",
       "<style scoped>\n",
       "    .dataframe tbody tr th:only-of-type {\n",
       "        vertical-align: middle;\n",
       "    }\n",
       "\n",
       "    .dataframe tbody tr th {\n",
       "        vertical-align: top;\n",
       "    }\n",
       "\n",
       "    .dataframe thead th {\n",
       "        text-align: right;\n",
       "    }\n",
       "</style>\n",
       "<table border=\"1\" class=\"dataframe\">\n",
       "  <thead>\n",
       "    <tr style=\"text-align: right;\">\n",
       "      <th></th>\n",
       "      <th>0</th>\n",
       "      <th>1</th>\n",
       "    </tr>\n",
       "  </thead>\n",
       "  <tbody>\n",
       "    <tr>\n",
       "      <th>0</th>\n",
       "      <td>0</td>\n",
       "      <td>0.767</td>\n",
       "    </tr>\n",
       "    <tr>\n",
       "      <th>1</th>\n",
       "      <td>1</td>\n",
       "      <td>0.356</td>\n",
       "    </tr>\n",
       "    <tr>\n",
       "      <th>2</th>\n",
       "      <td>2</td>\n",
       "      <td>0.338</td>\n",
       "    </tr>\n",
       "    <tr>\n",
       "      <th>3</th>\n",
       "      <td>3</td>\n",
       "      <td>0.403</td>\n",
       "    </tr>\n",
       "    <tr>\n",
       "      <th>4</th>\n",
       "      <td>4</td>\n",
       "      <td>0.644</td>\n",
       "    </tr>\n",
       "    <tr>\n",
       "      <th>5</th>\n",
       "      <td>5</td>\n",
       "      <td>0.456</td>\n",
       "    </tr>\n",
       "    <tr>\n",
       "      <th>6</th>\n",
       "      <td>6</td>\n",
       "      <td>0.345</td>\n",
       "    </tr>\n",
       "    <tr>\n",
       "      <th>7</th>\n",
       "      <td>7</td>\n",
       "      <td>0.701</td>\n",
       "    </tr>\n",
       "    <tr>\n",
       "      <th>8</th>\n",
       "      <td>8</td>\n",
       "      <td>0.883</td>\n",
       "    </tr>\n",
       "    <tr>\n",
       "      <th>9</th>\n",
       "      <td>9</td>\n",
       "      <td>0.327</td>\n",
       "    </tr>\n",
       "    <tr>\n",
       "      <th>10</th>\n",
       "      <td>10</td>\n",
       "      <td>0.440</td>\n",
       "    </tr>\n",
       "    <tr>\n",
       "      <th>11</th>\n",
       "      <td>11</td>\n",
       "      <td>0.322</td>\n",
       "    </tr>\n",
       "    <tr>\n",
       "      <th>12</th>\n",
       "      <td>12</td>\n",
       "      <td>0.550</td>\n",
       "    </tr>\n",
       "    <tr>\n",
       "      <th>13</th>\n",
       "      <td>13</td>\n",
       "      <td>0.665</td>\n",
       "    </tr>\n",
       "    <tr>\n",
       "      <th>14</th>\n",
       "      <td>14</td>\n",
       "      <td>0.312</td>\n",
       "    </tr>\n",
       "    <tr>\n",
       "      <th>15</th>\n",
       "      <td>15</td>\n",
       "      <td>0.310</td>\n",
       "    </tr>\n",
       "    <tr>\n",
       "      <th>16</th>\n",
       "      <td>16</td>\n",
       "      <td>0.403</td>\n",
       "    </tr>\n",
       "    <tr>\n",
       "      <th>17</th>\n",
       "      <td>17</td>\n",
       "      <td>0.403</td>\n",
       "    </tr>\n",
       "    <tr>\n",
       "      <th>18</th>\n",
       "      <td>18</td>\n",
       "      <td>0.362</td>\n",
       "    </tr>\n",
       "    <tr>\n",
       "      <th>19</th>\n",
       "      <td>19</td>\n",
       "      <td>0.407</td>\n",
       "    </tr>\n",
       "    <tr>\n",
       "      <th>20</th>\n",
       "      <td>20</td>\n",
       "      <td>0.442</td>\n",
       "    </tr>\n",
       "    <tr>\n",
       "      <th>21</th>\n",
       "      <td>21</td>\n",
       "      <td>0.571</td>\n",
       "    </tr>\n",
       "    <tr>\n",
       "      <th>22</th>\n",
       "      <td>22</td>\n",
       "      <td>0.304</td>\n",
       "    </tr>\n",
       "    <tr>\n",
       "      <th>23</th>\n",
       "      <td>23</td>\n",
       "      <td>0.408</td>\n",
       "    </tr>\n",
       "    <tr>\n",
       "      <th>24</th>\n",
       "      <td>24</td>\n",
       "      <td>0.303</td>\n",
       "    </tr>\n",
       "    <tr>\n",
       "      <th>25</th>\n",
       "      <td>25</td>\n",
       "      <td>0.611</td>\n",
       "    </tr>\n",
       "    <tr>\n",
       "      <th>26</th>\n",
       "      <td>26</td>\n",
       "      <td>0.310</td>\n",
       "    </tr>\n",
       "    <tr>\n",
       "      <th>27</th>\n",
       "      <td>27</td>\n",
       "      <td>0.380</td>\n",
       "    </tr>\n",
       "    <tr>\n",
       "      <th>28</th>\n",
       "      <td>28</td>\n",
       "      <td>0.471</td>\n",
       "    </tr>\n",
       "    <tr>\n",
       "      <th>29</th>\n",
       "      <td>29</td>\n",
       "      <td>0.403</td>\n",
       "    </tr>\n",
       "    <tr>\n",
       "      <th>30</th>\n",
       "      <td>30</td>\n",
       "      <td>0.362</td>\n",
       "    </tr>\n",
       "    <tr>\n",
       "      <th>31</th>\n",
       "      <td>31</td>\n",
       "      <td>0.362</td>\n",
       "    </tr>\n",
       "    <tr>\n",
       "      <th>32</th>\n",
       "      <td>32</td>\n",
       "      <td>0.366</td>\n",
       "    </tr>\n",
       "    <tr>\n",
       "      <th>33</th>\n",
       "      <td>33</td>\n",
       "      <td>0.382</td>\n",
       "    </tr>\n",
       "    <tr>\n",
       "      <th>34</th>\n",
       "      <td>34</td>\n",
       "      <td>0.362</td>\n",
       "    </tr>\n",
       "  </tbody>\n",
       "</table>\n",
       "</div>"
      ],
      "text/plain": [
       "     0      1\n",
       "0    0  0.767\n",
       "1    1  0.356\n",
       "2    2  0.338\n",
       "3    3  0.403\n",
       "4    4  0.644\n",
       "5    5  0.456\n",
       "6    6  0.345\n",
       "7    7  0.701\n",
       "8    8  0.883\n",
       "9    9  0.327\n",
       "10  10  0.440\n",
       "11  11  0.322\n",
       "12  12  0.550\n",
       "13  13  0.665\n",
       "14  14  0.312\n",
       "15  15  0.310\n",
       "16  16  0.403\n",
       "17  17  0.403\n",
       "18  18  0.362\n",
       "19  19  0.407\n",
       "20  20  0.442\n",
       "21  21  0.571\n",
       "22  22  0.304\n",
       "23  23  0.408\n",
       "24  24  0.303\n",
       "25  25  0.611\n",
       "26  26  0.310\n",
       "27  27  0.380\n",
       "28  28  0.471\n",
       "29  29  0.403\n",
       "30  30  0.362\n",
       "31  31  0.362\n",
       "32  32  0.366\n",
       "33  33  0.382\n",
       "34  34  0.362"
      ]
     },
     "execution_count": 92,
     "metadata": {},
     "output_type": "execute_result"
    }
   ],
   "source": [
    "suporte"
   ]
  },
  {
   "cell_type": "code",
   "execution_count": 110,
   "metadata": {},
   "outputs": [],
   "source": [
    "suporte_ordem = suporte.sort_values(by=1, ascending=False, ignore_index=True)\n",
    "suporte_ordem = suporte_ordem.rename(columns={0: 'Resultado', 1: 'Suporte'})"
   ]
  },
  {
   "cell_type": "code",
   "execution_count": 111,
   "metadata": {},
   "outputs": [
    {
     "data": {
      "text/html": [
       "<div>\n",
       "<style scoped>\n",
       "    .dataframe tbody tr th:only-of-type {\n",
       "        vertical-align: middle;\n",
       "    }\n",
       "\n",
       "    .dataframe tbody tr th {\n",
       "        vertical-align: top;\n",
       "    }\n",
       "\n",
       "    .dataframe thead th {\n",
       "        text-align: right;\n",
       "    }\n",
       "</style>\n",
       "<table border=\"1\" class=\"dataframe\">\n",
       "  <thead>\n",
       "    <tr style=\"text-align: right;\">\n",
       "      <th></th>\n",
       "      <th>Resultado</th>\n",
       "      <th>Suporte</th>\n",
       "    </tr>\n",
       "  </thead>\n",
       "  <tbody>\n",
       "    <tr>\n",
       "      <th>0</th>\n",
       "      <td>8</td>\n",
       "      <td>0.883</td>\n",
       "    </tr>\n",
       "    <tr>\n",
       "      <th>1</th>\n",
       "      <td>0</td>\n",
       "      <td>0.767</td>\n",
       "    </tr>\n",
       "    <tr>\n",
       "      <th>2</th>\n",
       "      <td>7</td>\n",
       "      <td>0.701</td>\n",
       "    </tr>\n",
       "    <tr>\n",
       "      <th>3</th>\n",
       "      <td>13</td>\n",
       "      <td>0.665</td>\n",
       "    </tr>\n",
       "    <tr>\n",
       "      <th>4</th>\n",
       "      <td>4</td>\n",
       "      <td>0.644</td>\n",
       "    </tr>\n",
       "    <tr>\n",
       "      <th>5</th>\n",
       "      <td>25</td>\n",
       "      <td>0.611</td>\n",
       "    </tr>\n",
       "    <tr>\n",
       "      <th>6</th>\n",
       "      <td>21</td>\n",
       "      <td>0.571</td>\n",
       "    </tr>\n",
       "    <tr>\n",
       "      <th>7</th>\n",
       "      <td>12</td>\n",
       "      <td>0.550</td>\n",
       "    </tr>\n",
       "    <tr>\n",
       "      <th>8</th>\n",
       "      <td>28</td>\n",
       "      <td>0.471</td>\n",
       "    </tr>\n",
       "    <tr>\n",
       "      <th>9</th>\n",
       "      <td>5</td>\n",
       "      <td>0.456</td>\n",
       "    </tr>\n",
       "    <tr>\n",
       "      <th>10</th>\n",
       "      <td>20</td>\n",
       "      <td>0.442</td>\n",
       "    </tr>\n",
       "    <tr>\n",
       "      <th>11</th>\n",
       "      <td>10</td>\n",
       "      <td>0.440</td>\n",
       "    </tr>\n",
       "    <tr>\n",
       "      <th>12</th>\n",
       "      <td>23</td>\n",
       "      <td>0.408</td>\n",
       "    </tr>\n",
       "    <tr>\n",
       "      <th>13</th>\n",
       "      <td>19</td>\n",
       "      <td>0.407</td>\n",
       "    </tr>\n",
       "    <tr>\n",
       "      <th>14</th>\n",
       "      <td>17</td>\n",
       "      <td>0.403</td>\n",
       "    </tr>\n",
       "    <tr>\n",
       "      <th>15</th>\n",
       "      <td>3</td>\n",
       "      <td>0.403</td>\n",
       "    </tr>\n",
       "    <tr>\n",
       "      <th>16</th>\n",
       "      <td>29</td>\n",
       "      <td>0.403</td>\n",
       "    </tr>\n",
       "    <tr>\n",
       "      <th>17</th>\n",
       "      <td>16</td>\n",
       "      <td>0.403</td>\n",
       "    </tr>\n",
       "    <tr>\n",
       "      <th>18</th>\n",
       "      <td>33</td>\n",
       "      <td>0.382</td>\n",
       "    </tr>\n",
       "    <tr>\n",
       "      <th>19</th>\n",
       "      <td>27</td>\n",
       "      <td>0.380</td>\n",
       "    </tr>\n",
       "    <tr>\n",
       "      <th>20</th>\n",
       "      <td>32</td>\n",
       "      <td>0.366</td>\n",
       "    </tr>\n",
       "    <tr>\n",
       "      <th>21</th>\n",
       "      <td>34</td>\n",
       "      <td>0.362</td>\n",
       "    </tr>\n",
       "    <tr>\n",
       "      <th>22</th>\n",
       "      <td>18</td>\n",
       "      <td>0.362</td>\n",
       "    </tr>\n",
       "    <tr>\n",
       "      <th>23</th>\n",
       "      <td>31</td>\n",
       "      <td>0.362</td>\n",
       "    </tr>\n",
       "    <tr>\n",
       "      <th>24</th>\n",
       "      <td>30</td>\n",
       "      <td>0.362</td>\n",
       "    </tr>\n",
       "    <tr>\n",
       "      <th>25</th>\n",
       "      <td>1</td>\n",
       "      <td>0.356</td>\n",
       "    </tr>\n",
       "    <tr>\n",
       "      <th>26</th>\n",
       "      <td>6</td>\n",
       "      <td>0.345</td>\n",
       "    </tr>\n",
       "    <tr>\n",
       "      <th>27</th>\n",
       "      <td>2</td>\n",
       "      <td>0.338</td>\n",
       "    </tr>\n",
       "    <tr>\n",
       "      <th>28</th>\n",
       "      <td>9</td>\n",
       "      <td>0.327</td>\n",
       "    </tr>\n",
       "    <tr>\n",
       "      <th>29</th>\n",
       "      <td>11</td>\n",
       "      <td>0.322</td>\n",
       "    </tr>\n",
       "    <tr>\n",
       "      <th>30</th>\n",
       "      <td>14</td>\n",
       "      <td>0.312</td>\n",
       "    </tr>\n",
       "    <tr>\n",
       "      <th>31</th>\n",
       "      <td>15</td>\n",
       "      <td>0.310</td>\n",
       "    </tr>\n",
       "    <tr>\n",
       "      <th>32</th>\n",
       "      <td>26</td>\n",
       "      <td>0.310</td>\n",
       "    </tr>\n",
       "    <tr>\n",
       "      <th>33</th>\n",
       "      <td>22</td>\n",
       "      <td>0.304</td>\n",
       "    </tr>\n",
       "    <tr>\n",
       "      <th>34</th>\n",
       "      <td>24</td>\n",
       "      <td>0.303</td>\n",
       "    </tr>\n",
       "  </tbody>\n",
       "</table>\n",
       "</div>"
      ],
      "text/plain": [
       "    Resultado  Suporte\n",
       "0           8    0.883\n",
       "1           0    0.767\n",
       "2           7    0.701\n",
       "3          13    0.665\n",
       "4           4    0.644\n",
       "5          25    0.611\n",
       "6          21    0.571\n",
       "7          12    0.550\n",
       "8          28    0.471\n",
       "9           5    0.456\n",
       "10         20    0.442\n",
       "11         10    0.440\n",
       "12         23    0.408\n",
       "13         19    0.407\n",
       "14         17    0.403\n",
       "15          3    0.403\n",
       "16         29    0.403\n",
       "17         16    0.403\n",
       "18         33    0.382\n",
       "19         27    0.380\n",
       "20         32    0.366\n",
       "21         34    0.362\n",
       "22         18    0.362\n",
       "23         31    0.362\n",
       "24         30    0.362\n",
       "25          1    0.356\n",
       "26          6    0.345\n",
       "27          2    0.338\n",
       "28          9    0.327\n",
       "29         11    0.322\n",
       "30         14    0.312\n",
       "31         15    0.310\n",
       "32         26    0.310\n",
       "33         22    0.304\n",
       "34         24    0.303"
      ]
     },
     "execution_count": 111,
     "metadata": {},
     "output_type": "execute_result"
    }
   ],
   "source": [
    "suporte_ordem"
   ]
  },
  {
   "cell_type": "code",
   "execution_count": 112,
   "metadata": {},
   "outputs": [
    {
     "data": {
      "text/plain": [
       "RelationRecord(items=frozenset({' United-States'}), support=0.883, ordered_statistics=[OrderedStatistic(items_base=frozenset(), items_add=frozenset({' United-States'}), confidence=0.883, lift=1.0)])"
      ]
     },
     "execution_count": 112,
     "metadata": {},
     "output_type": "execute_result"
    }
   ],
   "source": [
    "resultados[8]"
   ]
  },
  {
   "cell_type": "code",
   "execution_count": 113,
   "metadata": {},
   "outputs": [
    {
     "data": {
      "text/plain": [
       "RelationRecord(items=frozenset({' <=50K'}), support=0.767, ordered_statistics=[OrderedStatistic(items_base=frozenset(), items_add=frozenset({' <=50K'}), confidence=0.767, lift=1.0)])"
      ]
     },
     "execution_count": 113,
     "metadata": {},
     "output_type": "execute_result"
    }
   ],
   "source": [
    "resultados[0]"
   ]
  }
 ],
 "metadata": {
  "colab": {
   "provenance": []
  },
  "kernelspec": {
   "display_name": "Python 3 (ipykernel)",
   "language": "python",
   "name": "python3"
  },
  "language_info": {
   "codemirror_mode": {
    "name": "ipython",
    "version": 3
   },
   "file_extension": ".py",
   "mimetype": "text/x-python",
   "name": "python",
   "nbconvert_exporter": "python",
   "pygments_lexer": "ipython3",
   "version": "3.9.7"
  }
 },
 "nbformat": 4,
 "nbformat_minor": 1
}
