{
 "cells": [
  {
   "cell_type": "markdown",
   "metadata": {
    "id": "WnG17bPMPsXC"
   },
   "source": [
    "# Probabilidade"
   ]
  },
  {
   "cell_type": "markdown",
   "metadata": {
    "id": "VN2wxPVyi4pa"
   },
   "source": [
    "## Importações"
   ]
  },
  {
   "cell_type": "code",
   "execution_count": 41,
   "metadata": {
    "id": "5mU_frgSdSPB"
   },
   "outputs": [],
   "source": [
    "import numpy as np\n",
    "from scipy import stats\n",
    "import seaborn as sns\n",
    "import warnings\n",
    "warnings.simplefilter('ignore')"
   ]
  },
  {
   "cell_type": "markdown",
   "metadata": {
    "id": "AEJmt2ixPusB"
   },
   "source": [
    "## Permutação"
   ]
  },
  {
   "cell_type": "code",
   "execution_count": 1,
   "metadata": {
    "id": "EiJUzpLA2eSJ"
   },
   "outputs": [],
   "source": [
    "import math"
   ]
  },
  {
   "cell_type": "code",
   "execution_count": 2,
   "metadata": {
    "colab": {
     "base_uri": "https://localhost:8080/",
     "height": 55
    },
    "id": "jr0Yxwkw2gh8",
    "outputId": "4155c4e9-7578-4467-8113-384a1cacfde6"
   },
   "outputs": [
    {
     "data": {
      "text/plain": [
       "6"
      ]
     },
     "execution_count": 2,
     "metadata": {},
     "output_type": "execute_result"
    }
   ],
   "source": [
    "math.factorial(3)"
   ]
  },
  {
   "cell_type": "code",
   "execution_count": 3,
   "metadata": {
    "colab": {
     "base_uri": "https://localhost:8080/",
     "height": 55
    },
    "id": "6c3VT4oo3Gzw",
    "outputId": "1dfab60b-d21a-4731-82e9-a19658318c33"
   },
   "outputs": [
    {
     "data": {
      "text/plain": [
       "45239040.0"
      ]
     },
     "execution_count": 3,
     "metadata": {},
     "output_type": "execute_result"
    }
   ],
   "source": [
    "math.factorial(36) / math.factorial(36 - 5)"
   ]
  },
  {
   "cell_type": "code",
   "execution_count": 5,
   "metadata": {
    "colab": {
     "base_uri": "https://localhost:8080/",
     "height": 55
    },
    "id": "C0zvm5se3mSr",
    "outputId": "f4757dee-5d2f-4f82-fee5-25708051c15f"
   },
   "outputs": [
    {
     "data": {
      "text/plain": [
       "(60466176.0, 60466176)"
      ]
     },
     "execution_count": 5,
     "metadata": {},
     "output_type": "execute_result"
    }
   ],
   "source": [
    "math.pow(36, 5), 36 ** 5"
   ]
  },
  {
   "cell_type": "code",
   "execution_count": 28,
   "metadata": {},
   "outputs": [
    {
     "name": "stdout",
     "output_type": "stream",
     "text": [
      "Fatorial de: 36\n",
      "371993326789901217467999448150835200000000\n",
      "371993326789901217467999448150835200000000\n",
      "45239040.0\n",
      "60466176.0 60466176\n"
     ]
    }
   ],
   "source": [
    "fatorial = int(input('Fatorial de: '))\n",
    "fatorial_de = fatorial\n",
    "print(math.factorial(fatorial))\n",
    "for i in range(fatorial-1, 0, -1):\n",
    "    fatorial *= i\n",
    "print(fatorial)\n",
    "\n",
    "print(math.factorial(fatorial_de) / math.factorial(fatorial_de - 5))\n",
    "print(math.pow(fatorial_de, 5), fatorial_de ** 5)"
   ]
  },
  {
   "cell_type": "markdown",
   "metadata": {
    "id": "QDizneKGSQ7_"
   },
   "source": [
    "## Combinação"
   ]
  },
  {
   "cell_type": "code",
   "execution_count": 30,
   "metadata": {
    "colab": {
     "base_uri": "https://localhost:8080/",
     "height": 55
    },
    "id": "_5-w97Gm4fW3",
    "outputId": "d6927c25-6dbc-434f-d856-53446e1b67bc"
   },
   "outputs": [
    {
     "data": {
      "text/plain": [
       "15.0"
      ]
     },
     "execution_count": 30,
     "metadata": {},
     "output_type": "execute_result"
    }
   ],
   "source": [
    "math.factorial(6) / (math.factorial(2) * math.factorial(6 - 2))"
   ]
  },
  {
   "cell_type": "code",
   "execution_count": 29,
   "metadata": {
    "colab": {
     "base_uri": "https://localhost:8080/"
    },
    "id": "hEDn2lJr4081",
    "outputId": "638e8e86-f17f-414e-bf5c-70c81f273c5b"
   },
   "outputs": [
    {
     "data": {
      "text/plain": [
       "21.0"
      ]
     },
     "execution_count": 29,
     "metadata": {},
     "output_type": "execute_result"
    }
   ],
   "source": [
    "math.factorial(6 + 2 - 1) / (math.factorial(2) * math.factorial(6 - 1))"
   ]
  },
  {
   "cell_type": "markdown",
   "metadata": {
    "id": "rjzVj9LMwpKI"
   },
   "source": [
    "## Interseção, união e diferença"
   ]
  },
  {
   "cell_type": "code",
   "execution_count": 31,
   "metadata": {
    "id": "fSWGvSI86l9h"
   },
   "outputs": [],
   "source": [
    "a = (0,1,2,3,4,5,6,7)\n",
    "b = (0,2,4,6,8)"
   ]
  },
  {
   "cell_type": "markdown",
   "metadata": {
    "id": "PVq0TArlw6kl"
   },
   "source": [
    "### Interseção"
   ]
  },
  {
   "cell_type": "code",
   "execution_count": 32,
   "metadata": {
    "colab": {
     "base_uri": "https://localhost:8080/",
     "height": 55
    },
    "id": "WR1fr61E6ubA",
    "outputId": "8cf6deef-9c2d-48fc-a8b6-405818fc5390"
   },
   "outputs": [
    {
     "data": {
      "text/plain": [
       "{0, 2, 4, 6, 8}"
      ]
     },
     "execution_count": 32,
     "metadata": {},
     "output_type": "execute_result"
    }
   ],
   "source": [
    "set(a) and set(b)"
   ]
  },
  {
   "cell_type": "markdown",
   "metadata": {
    "id": "gmBXJGnRxWq3"
   },
   "source": [
    "### União"
   ]
  },
  {
   "cell_type": "code",
   "execution_count": 33,
   "metadata": {
    "colab": {
     "base_uri": "https://localhost:8080/",
     "height": 55
    },
    "id": "VND-Ok7V63Gl",
    "outputId": "c994c210-0e18-4ebe-e764-3910ec540a2c"
   },
   "outputs": [
    {
     "data": {
      "text/plain": [
       "{0, 1, 2, 3, 4, 5, 6, 7, 8}"
      ]
     },
     "execution_count": 33,
     "metadata": {},
     "output_type": "execute_result"
    }
   ],
   "source": [
    "set(a) | set(b)"
   ]
  },
  {
   "cell_type": "markdown",
   "metadata": {
    "id": "w2WYy99Vxcif"
   },
   "source": [
    "### Diferença"
   ]
  },
  {
   "cell_type": "code",
   "execution_count": 34,
   "metadata": {
    "colab": {
     "base_uri": "https://localhost:8080/",
     "height": 55
    },
    "id": "4T6hS4YE6_6h",
    "outputId": "0b077241-77a3-480c-fbb2-dfbb846adbb0"
   },
   "outputs": [
    {
     "data": {
      "text/plain": [
       "{1, 3, 5, 7}"
      ]
     },
     "execution_count": 34,
     "metadata": {},
     "output_type": "execute_result"
    }
   ],
   "source": [
    "set(a).difference(set(b))"
   ]
  },
  {
   "cell_type": "code",
   "execution_count": 35,
   "metadata": {
    "colab": {
     "base_uri": "https://localhost:8080/",
     "height": 55
    },
    "id": "imQUwyi07INs",
    "outputId": "b1c1b522-93b7-42b4-a53c-1b66a9fe4471"
   },
   "outputs": [
    {
     "data": {
      "text/plain": [
       "{8}"
      ]
     },
     "execution_count": 35,
     "metadata": {},
     "output_type": "execute_result"
    }
   ],
   "source": [
    "set(b).difference(set(a))"
   ]
  },
  {
   "cell_type": "markdown",
   "metadata": {
    "id": "41Peje9kdJya"
   },
   "source": [
    "## Probabilidade e distribuição normal\n",
    "\n",
    "- https://docs.scipy.org/doc/scipy/reference/generated/scipy.stats.norm.html"
   ]
  },
  {
   "cell_type": "code",
   "execution_count": 39,
   "metadata": {
    "id": "ETnewxE8dMkE"
   },
   "outputs": [],
   "source": [
    "dados = np.array([126. , 129.5, 133. , 133. , 136.5, 136.5, 140. , 140. , 140. ,\n",
    "                  140. , 143.5, 143.5, 143.5, 143.5, 143.5, 143.5, 147. , 147. ,\n",
    "                  147. , 147. , 147. , 147. , 147. , 150.5, 150.5, 150.5, 150.5,\n",
    "                  150.5, 150.5, 150.5, 150.5, 154. , 154. , 154. , 154. , 154. ,\n",
    "                  154. , 154. , 154. , 154. , 157.5, 157.5, 157.5, 157.5, 157.5,\n",
    "                  157.5, 157.5, 157.5, 157.5, 157.5, 161. , 161. , 161. , 161. ,\n",
    "                  161. , 161. , 161. , 161. , 161. , 161. , 164.5, 164.5, 164.5,\n",
    "                  164.5, 164.5, 164.5, 164.5, 164.5, 164.5, 168. , 168. , 168. ,\n",
    "                  168. , 168. , 168. , 168. , 168. , 171.5, 171.5, 171.5, 171.5,\n",
    "                  171.5, 171.5, 171.5, 175. , 175. , 175. , 175. , 175. , 175. ,\n",
    "                  178.5, 178.5, 178.5, 178.5, 182. , 182. , 185.5, 185.5, 189., 192.5])"
   ]
  },
  {
   "cell_type": "code",
   "execution_count": 46,
   "metadata": {
    "colab": {
     "base_uri": "https://localhost:8080/",
     "height": 285
    },
    "id": "7XxtDthfHm8Q",
    "outputId": "90ce98d8-f1bf-4b6d-8eff-d66e941ded5e"
   },
   "outputs": [
    {
     "data": {
      "image/png": "[encoded data removed]",
      "text/plain": [
       "<Figure size 432x288 with 1 Axes>"
      ]
     },
     "metadata": {
      "needs_background": "light"
     },
     "output_type": "display_data"
    }
   ],
   "source": [
    "sns.distplot(dados);"
   ]
  },
  {
   "cell_type": "code",
   "execution_count": 43,
   "metadata": {
    "colab": {
     "base_uri": "https://localhost:8080/",
     "height": 55
    },
    "id": "rCcV31SsH9ak",
    "outputId": "c566d7e3-b1b0-4e75-ba3d-b015563f298a"
   },
   "outputs": [
    {
     "data": {
      "text/plain": [
       "(159.25, 13.65)"
      ]
     },
     "execution_count": 43,
     "metadata": {},
     "output_type": "execute_result"
    }
   ],
   "source": [
    "media = np.mean(dados)\n",
    "desvio_padrao = np.std(dados)\n",
    "media, desvio_padrao"
   ]
  },
  {
   "cell_type": "code",
   "execution_count": 44,
   "metadata": {
    "colab": {
     "base_uri": "https://localhost:8080/",
     "height": 55
    },
    "id": "GjYpLIT_IKHI",
    "outputId": "ee09c087-3f3c-40c5-f70d-5ea77ef09eda"
   },
   "outputs": [
    {
     "data": {
      "text/plain": [
       "array([150.5 , 159.25, 168.  ])"
      ]
     },
     "execution_count": 44,
     "metadata": {},
     "output_type": "execute_result"
    }
   ],
   "source": [
    "np.quantile(dados, [0.25, 0.50, 0.75])"
   ]
  },
  {
   "cell_type": "markdown",
   "metadata": {
    "id": "CKW7Fregd1LF"
   },
   "source": [
    "### Calcular a probabilidade de selecionar uma pessoa em Q1"
   ]
  },
  {
   "cell_type": "code",
   "execution_count": null,
   "metadata": {
    "colab": {
     "base_uri": "https://localhost:8080/",
     "height": 55
    },
    "id": "JMVXF36PIesF",
    "outputId": "f1ddb1cd-11a3-4ec6-c687-ac1b7c7552bb"
   },
   "outputs": [
    {
     "data": {
      "text/plain": [
       "-0.641025641025641"
      ]
     },
     "execution_count": 21,
     "metadata": {
      "tags": []
     },
     "output_type": "execute_result"
    }
   ],
   "source": [
    "(150.5 - media) / desvio_padrao"
   ]
  },
  {
   "cell_type": "markdown",
   "metadata": {
    "id": "smcLpds6JeHZ"
   },
   "source": [
    "zscore 0.26109"
   ]
  },
  {
   "cell_type": "code",
   "execution_count": 55,
   "metadata": {
    "colab": {
     "base_uri": "https://localhost:8080/",
     "height": 55
    },
    "id": "HOAbK1rTMzfM",
    "outputId": "7d5f95a3-7068-4cc0-88d1-a4275292edfe"
   },
   "outputs": [
    {
     "data": {
      "text/plain": [
       "0.26075301195608336"
      ]
     },
     "execution_count": 55,
     "metadata": {},
     "output_type": "execute_result"
    }
   ],
   "source": [
    "stats.norm.cdf(150.5, media, desvio_padrao)"
   ]
  },
  {
   "cell_type": "markdown",
   "metadata": {
    "id": "sOBWHav0f4XF"
   },
   "source": [
    "### Calcular a probabilidade de selecionar uma pessoa em Q3"
   ]
  },
  {
   "cell_type": "code",
   "execution_count": 56,
   "metadata": {
    "colab": {
     "base_uri": "https://localhost:8080/",
     "height": 55
    },
    "id": "evKG6H16Jv_b",
    "outputId": "2f2bd53c-7972-45df-91e3-4dd1a5e0b65c"
   },
   "outputs": [
    {
     "data": {
      "text/plain": [
       "0.641025641025641"
      ]
     },
     "execution_count": 56,
     "metadata": {},
     "output_type": "execute_result"
    }
   ],
   "source": [
    "(168 - media) / desvio_padrao"
   ]
  },
  {
   "cell_type": "code",
   "execution_count": 57,
   "metadata": {
    "id": "gMQfz_z_J90U"
   },
   "outputs": [
    {
     "data": {
      "text/plain": [
       "0.73891"
      ]
     },
     "execution_count": 57,
     "metadata": {},
     "output_type": "execute_result"
    }
   ],
   "source": [
    "0.73891"
   ]
  },
  {
   "cell_type": "code",
   "execution_count": 58,
   "metadata": {
    "colab": {
     "base_uri": "https://localhost:8080/",
     "height": 55
    },
    "id": "29t5vE_LKHq3",
    "outputId": "8dbbe9f6-7423-4e6d-f52e-d7d17f4ca31e"
   },
   "outputs": [
    {
     "data": {
      "text/plain": [
       "0.26109000000000004"
      ]
     },
     "execution_count": 58,
     "metadata": {},
     "output_type": "execute_result"
    }
   ],
   "source": [
    "1 - 0.73891"
   ]
  },
  {
   "cell_type": "code",
   "execution_count": 59,
   "metadata": {
    "colab": {
     "base_uri": "https://localhost:8080/",
     "height": 55
    },
    "id": "XDUJF8WZNE-9",
    "outputId": "93c7118d-8aba-4379-c04c-89139f41beca"
   },
   "outputs": [
    {
     "data": {
      "text/plain": [
       "0.26075301195608336"
      ]
     },
     "execution_count": 59,
     "metadata": {},
     "output_type": "execute_result"
    }
   ],
   "source": [
    "1 - stats.norm.cdf(168, media, desvio_padrao)"
   ]
  },
  {
   "cell_type": "code",
   "execution_count": 60,
   "metadata": {
    "colab": {
     "base_uri": "https://localhost:8080/",
     "height": 55
    },
    "id": "yGR4hjW3NT_D",
    "outputId": "41dace31-16c3-4078-ee53-e8f29a455cca"
   },
   "outputs": [
    {
     "data": {
      "text/plain": [
       "0.26075301195608336"
      ]
     },
     "execution_count": 60,
     "metadata": {},
     "output_type": "execute_result"
    }
   ],
   "source": [
    "stats.norm.sf(168, media, desvio_padrao)"
   ]
  },
  {
   "cell_type": "code",
   "execution_count": 72,
   "metadata": {},
   "outputs": [
    {
     "data": {
      "text/plain": [
       "0.26075301195608336"
      ]
     },
     "execution_count": 72,
     "metadata": {},
     "output_type": "execute_result"
    }
   ],
   "source": [
    "stats.norm.sf(np.quantile(dados, 0.75), media, desvio_padrao)"
   ]
  },
  {
   "cell_type": "markdown",
   "metadata": {
    "id": "-kqXB3cghQ14"
   },
   "source": [
    "### Calcular a probabilidade de selecionar uma pessoa entre Q2 e Q3"
   ]
  },
  {
   "cell_type": "code",
   "execution_count": 61,
   "metadata": {
    "colab": {
     "base_uri": "https://localhost:8080/",
     "height": 55
    },
    "id": "GhkqaAeBKj49",
    "outputId": "c5626ed7-729f-4047-c379-0a96d394a014"
   },
   "outputs": [
    {
     "data": {
      "text/plain": [
       "0.641025641025641"
      ]
     },
     "execution_count": 61,
     "metadata": {},
     "output_type": "execute_result"
    }
   ],
   "source": [
    "(168 - media) / desvio_padrao"
   ]
  },
  {
   "cell_type": "code",
   "execution_count": 62,
   "metadata": {
    "id": "8rSvAyHAKpB_"
   },
   "outputs": [
    {
     "data": {
      "text/plain": [
       "0.73891"
      ]
     },
     "execution_count": 62,
     "metadata": {},
     "output_type": "execute_result"
    }
   ],
   "source": [
    "0.73891"
   ]
  },
  {
   "cell_type": "code",
   "execution_count": 63,
   "metadata": {
    "colab": {
     "base_uri": "https://localhost:8080/",
     "height": 55
    },
    "id": "pbG2m85IK5sD",
    "outputId": "ec4e43fb-28d9-452a-bbe4-fe115dd7cf77"
   },
   "outputs": [
    {
     "data": {
      "text/plain": [
       "0.0"
      ]
     },
     "execution_count": 63,
     "metadata": {},
     "output_type": "execute_result"
    }
   ],
   "source": [
    "(159.25 - media) / desvio_padrao"
   ]
  },
  {
   "cell_type": "code",
   "execution_count": 64,
   "metadata": {
    "id": "VMk86rJXLE1l"
   },
   "outputs": [
    {
     "data": {
      "text/plain": [
       "0.5"
      ]
     },
     "execution_count": 64,
     "metadata": {},
     "output_type": "execute_result"
    }
   ],
   "source": [
    "0.50"
   ]
  },
  {
   "cell_type": "code",
   "execution_count": 65,
   "metadata": {
    "colab": {
     "base_uri": "https://localhost:8080/",
     "height": 55
    },
    "id": "5D62QVdQLMIg",
    "outputId": "77b75652-489e-4ce3-e38c-d97532997beb"
   },
   "outputs": [
    {
     "data": {
      "text/plain": [
       "0.23890999999999996"
      ]
     },
     "execution_count": 65,
     "metadata": {},
     "output_type": "execute_result"
    }
   ],
   "source": [
    "0.73891 - 0.50"
   ]
  },
  {
   "cell_type": "code",
   "execution_count": 66,
   "metadata": {
    "colab": {
     "base_uri": "https://localhost:8080/",
     "height": 55
    },
    "id": "sptRhEPvNm0t",
    "outputId": "662a8167-9976-49b4-af9f-fe773e40d6b6"
   },
   "outputs": [
    {
     "data": {
      "text/plain": [
       "0.7392469880439166"
      ]
     },
     "execution_count": 66,
     "metadata": {},
     "output_type": "execute_result"
    }
   ],
   "source": [
    "stats.norm.cdf(168, media, desvio_padrao)"
   ]
  },
  {
   "cell_type": "code",
   "execution_count": 67,
   "metadata": {
    "colab": {
     "base_uri": "https://localhost:8080/",
     "height": 55
    },
    "id": "9K0DxKjKNsph",
    "outputId": "47472b9b-1404-4a1a-da45-6c9b982b6dbb"
   },
   "outputs": [
    {
     "data": {
      "text/plain": [
       "0.5"
      ]
     },
     "execution_count": 67,
     "metadata": {},
     "output_type": "execute_result"
    }
   ],
   "source": [
    "stats.norm.cdf(159.25, media, desvio_padrao)"
   ]
  },
  {
   "cell_type": "code",
   "execution_count": 68,
   "metadata": {
    "colab": {
     "base_uri": "https://localhost:8080/",
     "height": 55
    },
    "id": "tBicSKquNyMl",
    "outputId": "e98600c6-a95a-47d4-ca98-41dcc6f0faf9"
   },
   "outputs": [
    {
     "data": {
      "text/plain": [
       "0.23924698804391664"
      ]
     },
     "execution_count": 68,
     "metadata": {},
     "output_type": "execute_result"
    }
   ],
   "source": [
    "stats.norm.cdf(168, media, desvio_padrao) - stats.norm.cdf(159.25, media, desvio_padrao)"
   ]
  },
  {
   "cell_type": "markdown",
   "metadata": {
    "id": "HRvvngMAofQi"
   },
   "source": [
    "### Calcular a probabilidade de selecionar uma pessoa em Q1 ou Q3"
   ]
  },
  {
   "cell_type": "code",
   "execution_count": 70,
   "metadata": {
    "colab": {
     "base_uri": "https://localhost:8080/",
     "height": 55
    },
    "id": "UC-j2gwvLbEK",
    "outputId": "ec116e31-f16d-4d42-ae52-8e85f2e60011"
   },
   "outputs": [
    {
     "data": {
      "text/plain": [
       "0.52218"
      ]
     },
     "execution_count": 70,
     "metadata": {},
     "output_type": "execute_result"
    }
   ],
   "source": [
    "0.26109 + 0.26109"
   ]
  },
  {
   "cell_type": "markdown",
   "metadata": {
    "id": "gY73bwJcpquV"
   },
   "source": [
    "### Calcular a probabilidade de não selecionar uma pessoa em Q1 ou Q3"
   ]
  },
  {
   "cell_type": "code",
   "execution_count": 71,
   "metadata": {
    "colab": {
     "base_uri": "https://localhost:8080/",
     "height": 55
    },
    "id": "6amHRxSZLuer",
    "outputId": "ad59813e-f760-426b-a666-547d1bdebd94"
   },
   "outputs": [
    {
     "data": {
      "text/plain": [
       "0.47782"
      ]
     },
     "execution_count": 71,
     "metadata": {},
     "output_type": "execute_result"
    }
   ],
   "source": [
    "1 - 0.52218"
   ]
  },
  {
   "cell_type": "markdown",
   "metadata": {
    "id": "mxblw-KwtijT"
   },
   "source": [
    "### Exercício 1\n",
    "\n",
    "- Uma empresa fez um concurso para seleção de novos funcionários. A prova tinha 50 questões e o Pedro acertou 40 questões. Considerando uma distribuição normal com média 24 e desvio padrão de 8, quais são as chances dele ser contratado?"
   ]
  },
  {
   "cell_type": "code",
   "execution_count": 110,
   "metadata": {
    "id": "ySddRz-0t8Yq"
   },
   "outputs": [
    {
     "data": {
      "text/plain": [
       "0.9772498680518208"
      ]
     },
     "execution_count": 110,
     "metadata": {},
     "output_type": "execute_result"
    }
   ],
   "source": [
    "X = 40\n",
    "media = 24\n",
    "desvio_padrao = 8\n",
    "z = (X - media) / desvio_padrao\n",
    "stats.norm.cdf(z)"
   ]
  },
  {
   "cell_type": "code",
   "execution_count": 111,
   "metadata": {},
   "outputs": [
    {
     "data": {
      "text/plain": [
       "97.72498680518208"
      ]
     },
     "execution_count": 111,
     "metadata": {},
     "output_type": "execute_result"
    }
   ],
   "source": [
    "stats.norm.cdf(X, media, desvio_padrao) * 100"
   ]
  },
  {
   "cell_type": "markdown",
   "metadata": {
    "id": "lDooGDk_u9te"
   },
   "source": [
    "### Exercício 2\n",
    "\n",
    "- A vida útil de uma marca de pneus é representada por uma distribuição normal com média de 38.000 Km e desvio padrão de 3.000 Km\n",
    "\n",
    "1.   Qual a probabilidade de que um pneu escolhido aleatoriamente tenha vida útil de 35.000 Km?\n",
    "2.   Qual a probabilidade de que ele dure mais do que 44.000 Km?\n",
    "\n"
   ]
  },
  {
   "cell_type": "markdown",
   "metadata": {
    "id": "tycsxFW4wEW9"
   },
   "source": [
    "#### Questão 1"
   ]
  },
  {
   "cell_type": "code",
   "execution_count": 104,
   "metadata": {},
   "outputs": [
    {
     "data": {
      "text/plain": [
       "-1.0"
      ]
     },
     "execution_count": 104,
     "metadata": {},
     "output_type": "execute_result"
    }
   ],
   "source": [
    "media = 38\n",
    "desvio_padrao = 3\n",
    "X = 35\n",
    "z = (X - media) / desvio_padrao\n",
    "z"
   ]
  },
  {
   "cell_type": "code",
   "execution_count": 105,
   "metadata": {},
   "outputs": [
    {
     "data": {
      "text/plain": [
       "0.8413447460685429"
      ]
     },
     "execution_count": 105,
     "metadata": {},
     "output_type": "execute_result"
    }
   ],
   "source": [
    "X = 35\n",
    "z = (X - media) / desvio_padrao\n",
    "stats.norm.sf(z)"
   ]
  },
  {
   "cell_type": "code",
   "execution_count": 106,
   "metadata": {},
   "outputs": [
    {
     "data": {
      "text/plain": [
       "0.8413447460685429"
      ]
     },
     "execution_count": 106,
     "metadata": {},
     "output_type": "execute_result"
    }
   ],
   "source": [
    "1 - stats.norm.cdf(X, media, desvio_padrao)"
   ]
  },
  {
   "cell_type": "code",
   "execution_count": 107,
   "metadata": {},
   "outputs": [
    {
     "data": {
      "text/plain": [
       "84.1344746068543"
      ]
     },
     "execution_count": 107,
     "metadata": {},
     "output_type": "execute_result"
    }
   ],
   "source": [
    "stats.norm.sf(X, media, desvio_padrao) * 100"
   ]
  },
  {
   "cell_type": "markdown",
   "metadata": {
    "id": "Yl7mp1CkwIsa"
   },
   "source": [
    "#### Questão 2"
   ]
  },
  {
   "cell_type": "code",
   "execution_count": 108,
   "metadata": {},
   "outputs": [
    {
     "data": {
      "text/plain": [
       "0.022750131948179195"
      ]
     },
     "execution_count": 108,
     "metadata": {},
     "output_type": "execute_result"
    }
   ],
   "source": [
    "X = 44\n",
    "z = (X - media) / desvio_padrao\n",
    "stats.norm.sf(z)"
   ]
  },
  {
   "cell_type": "code",
   "execution_count": 109,
   "metadata": {},
   "outputs": [
    {
     "data": {
      "text/plain": [
       "2.2750131948179195"
      ]
     },
     "execution_count": 109,
     "metadata": {},
     "output_type": "execute_result"
    }
   ],
   "source": [
    "stats.norm.sf(X, media, desvio_padrao) * 100"
   ]
  },
  {
   "cell_type": "markdown",
   "metadata": {
    "id": "rM55aoLUAB1z"
   },
   "source": [
    "## Probabilidade e distribuição binomial\n",
    "\n",
    "- https://docs.scipy.org/doc/scipy/reference/generated/scipy.stats.binom.html#scipy.stats.binom"
   ]
  },
  {
   "cell_type": "markdown",
   "metadata": {
    "id": "R1GvBu2tAHeg"
   },
   "source": [
    "### Exemplo das moedas\n",
    "\n",
    "- Jogando a moeda 10 vezes, qual a probabilidade de obter 5 \"caras\"?"
   ]
  },
  {
   "cell_type": "code",
   "execution_count": 135,
   "metadata": {
    "id": "xBpWBSR_D9nO"
   },
   "outputs": [],
   "source": [
    "n = 10\n",
    "x = 5\n",
    "p = 1 / 2 # Cara ou coroa"
   ]
  },
  {
   "cell_type": "code",
   "execution_count": 136,
   "metadata": {},
   "outputs": [
    {
     "data": {
      "text/plain": [
       "(24.609375, '%')"
      ]
     },
     "execution_count": 136,
     "metadata": {},
     "output_type": "execute_result"
    }
   ],
   "source": [
    "probabilidade = (math.factorial(n) / (math.factorial(n - x) * math.factorial(x))) * math.pow(p, x) * math.pow((1 - p), (n - x))\n",
    "probabilidade * 100, '%'"
   ]
  },
  {
   "cell_type": "code",
   "execution_count": 137,
   "metadata": {},
   "outputs": [
    {
     "data": {
      "text/plain": [
       "0.24609375000000003"
      ]
     },
     "execution_count": 137,
     "metadata": {},
     "output_type": "execute_result"
    }
   ],
   "source": [
    "stats.binom.pmf(x, n ,p)"
   ]
  },
  {
   "cell_type": "markdown",
   "metadata": {
    "id": "OpSKRl6nAL18"
   },
   "source": [
    "### Exercício 1\n",
    "\n",
    "- 70% das pessoas que compraram o livro de Python são mulheres. Se 10 leitores forem selecionados randomicamente, qual a probabilidade de selecionarmos 7 mulheres?"
   ]
  },
  {
   "cell_type": "code",
   "execution_count": 138,
   "metadata": {
    "id": "Xny1sUr2ANx-"
   },
   "outputs": [],
   "source": [
    "n = 10\n",
    "x = 7\n",
    "p = 0.7"
   ]
  },
  {
   "cell_type": "code",
   "execution_count": 139,
   "metadata": {},
   "outputs": [
    {
     "data": {
      "text/plain": [
       "(26.6827932, '%')"
      ]
     },
     "execution_count": 139,
     "metadata": {},
     "output_type": "execute_result"
    }
   ],
   "source": [
    "probabilidade = (math.factorial(n) / (math.factorial(n - x) * math.factorial(x))) * math.pow(p, x) * math.pow((1 - p), (n - x))\n",
    "probabilidade * 100, '%'"
   ]
  },
  {
   "cell_type": "code",
   "execution_count": 140,
   "metadata": {},
   "outputs": [
    {
     "data": {
      "text/plain": [
       "0.26682793200000005"
      ]
     },
     "execution_count": 140,
     "metadata": {},
     "output_type": "execute_result"
    }
   ],
   "source": [
    "stats.binom.pmf(x, n, p)"
   ]
  },
  {
   "cell_type": "markdown",
   "metadata": {
    "id": "IAY-YuWTARnE"
   },
   "source": [
    "### Exercício 2\n",
    "\n",
    "- Em uma linha de produção de uma fábrica de parafusos, a probabilidade de obter um parafuso defeituoso é 0,05. Tendo uma amostra de 50 peças, qual a probabilidade de obter\n",
    "\n",
    "1.   Um parafuso defeituoso\n",
    "2.   Nenhum parafuso defeituoso"
   ]
  },
  {
   "cell_type": "markdown",
   "metadata": {
    "id": "ny0Vglv_AV0I"
   },
   "source": [
    "#### Questão 1"
   ]
  },
  {
   "cell_type": "code",
   "execution_count": 141,
   "metadata": {
    "id": "YTMuUfEfAXbD"
   },
   "outputs": [],
   "source": [
    "n = 50\n",
    "x = 1\n",
    "p = 0.05"
   ]
  },
  {
   "cell_type": "code",
   "execution_count": 142,
   "metadata": {},
   "outputs": [
    {
     "data": {
      "text/plain": [
       "0.2024867770439825"
      ]
     },
     "execution_count": 142,
     "metadata": {},
     "output_type": "execute_result"
    }
   ],
   "source": [
    "stats.binom.pmf(x, n, p)"
   ]
  },
  {
   "cell_type": "code",
   "execution_count": 143,
   "metadata": {},
   "outputs": [
    {
     "data": {
      "text/plain": [
       "(20.248677704398197, '%')"
      ]
     },
     "execution_count": 143,
     "metadata": {},
     "output_type": "execute_result"
    }
   ],
   "source": [
    "probabilidade = (math.factorial(n) / (math.factorial(n - x) * math.factorial(x))) * math.pow(p, x) * math.pow((1 - p), (n - x))\n",
    "probabilidade * 100, '%'"
   ]
  },
  {
   "cell_type": "markdown",
   "metadata": {
    "id": "gSxfyMArAaoZ"
   },
   "source": [
    "#### Questão 2"
   ]
  },
  {
   "cell_type": "code",
   "execution_count": 144,
   "metadata": {},
   "outputs": [],
   "source": [
    "n = 50\n",
    "x = 0\n",
    "p = 0.05"
   ]
  },
  {
   "cell_type": "code",
   "execution_count": 145,
   "metadata": {},
   "outputs": [
    {
     "data": {
      "text/plain": [
       "(7.694497527671315, '%')"
      ]
     },
     "execution_count": 145,
     "metadata": {},
     "output_type": "execute_result"
    }
   ],
   "source": [
    "probabilidade = (math.factorial(n) / (math.factorial(n - x) * math.factorial(x))) * math.pow(p, x) * math.pow((1 - p), (n - x))\n",
    "probabilidade * 100, '%'"
   ]
  },
  {
   "cell_type": "code",
   "execution_count": 146,
   "metadata": {
    "colab": {
     "base_uri": "https://localhost:8080/",
     "height": 55
    },
    "id": "fJfwHUGYAYsv",
    "outputId": "980f4e15-18f6-4e96-a788-9ff8f86bebb4"
   },
   "outputs": [
    {
     "data": {
      "text/plain": [
       "0.07694497527671315"
      ]
     },
     "execution_count": 146,
     "metadata": {},
     "output_type": "execute_result"
    }
   ],
   "source": [
    "stats.binom.pmf(x, n, p)"
   ]
  },
  {
   "cell_type": "markdown",
   "metadata": {
    "id": "-ZUN5ieXGSzk"
   },
   "source": [
    "## Probabilidade e distribuição de Poisson\n",
    "\n",
    "- https://docs.scipy.org/doc/scipy/reference/generated/scipy.stats.poisson.html"
   ]
  },
  {
   "cell_type": "markdown",
   "metadata": {
    "id": "U2fnkmZBGWch"
   },
   "source": [
    "### Exemplo dos carros\n",
    "\n",
    "- O número médio de carros vendidos por dia é 10. Qual a probabilidade de vender 14 carros amanhã?"
   ]
  },
  {
   "cell_type": "code",
   "execution_count": 147,
   "metadata": {
    "id": "9yZG4BMFHlcC"
   },
   "outputs": [],
   "source": [
    "x = 14\n",
    "media = 10"
   ]
  },
  {
   "cell_type": "code",
   "execution_count": 148,
   "metadata": {},
   "outputs": [
    {
     "data": {
      "text/plain": [
       "2.718281828459045"
      ]
     },
     "execution_count": 148,
     "metadata": {},
     "output_type": "execute_result"
    }
   ],
   "source": [
    "math.e"
   ]
  },
  {
   "cell_type": "code",
   "execution_count": 149,
   "metadata": {},
   "outputs": [
    {
     "data": {
      "text/plain": [
       "(5.207710444602621, '%')"
      ]
     },
     "execution_count": 149,
     "metadata": {},
     "output_type": "execute_result"
    }
   ],
   "source": [
    "probabilidade = math.pow(math.e, -media) * (math.pow(media, x) / math.factorial(x))\n",
    "probabilidade * 100, '%'"
   ]
  },
  {
   "cell_type": "code",
   "execution_count": 150,
   "metadata": {},
   "outputs": [
    {
     "data": {
      "text/plain": [
       "0.05207710444602615"
      ]
     },
     "execution_count": 150,
     "metadata": {},
     "output_type": "execute_result"
    }
   ],
   "source": [
    "stats.poisson.pmf(x, media)"
   ]
  },
  {
   "cell_type": "markdown",
   "metadata": {
    "id": "PPb2aSXOIpwl"
   },
   "source": [
    "### Exercício 1\n",
    "\n",
    "- Em uma linha de produção de uma fábrica de parafusos, a probabilidade é de obter 0,05 defeitos por UNIDADE. Qual a probabilidade de uma unidade apresentar:\n",
    "\n",
    "1.   Um defeito\n",
    "2.   Nenhum defeito"
   ]
  },
  {
   "cell_type": "markdown",
   "metadata": {
    "id": "TT5wf53EIsXm"
   },
   "source": [
    "#### Questão 1"
   ]
  },
  {
   "cell_type": "code",
   "execution_count": 151,
   "metadata": {},
   "outputs": [
    {
     "name": "stdout",
     "output_type": "stream",
     "text": [
      "4.75614712250357%.\n"
     ]
    },
    {
     "data": {
      "text/plain": [
       "0.04756147122503571"
      ]
     },
     "execution_count": 151,
     "metadata": {},
     "output_type": "execute_result"
    }
   ],
   "source": [
    "x = 1\n",
    "media = 0.05\n",
    "probabilidade = math.pow(math.e, -media) * (math.pow(media, x) / math.factorial(x))\n",
    "print(f'{probabilidade * 100}%.')\n",
    "stats.poisson.pmf(x, media)"
   ]
  },
  {
   "cell_type": "code",
   "execution_count": 152,
   "metadata": {},
   "outputs": [
    {
     "name": "stdout",
     "output_type": "stream",
     "text": [
      "95.1229424500714%.\n"
     ]
    },
    {
     "data": {
      "text/plain": [
       "0.951229424500714"
      ]
     },
     "execution_count": 152,
     "metadata": {},
     "output_type": "execute_result"
    }
   ],
   "source": [
    "x = 0\n",
    "media = 0.05\n",
    "probabilidade = math.pow(math.e, -media) * (math.pow(media, x) / math.factorial(x))\n",
    "print(f'{probabilidade * 100}%.')\n",
    "stats.poisson.pmf(x, media)"
   ]
  },
  {
   "cell_type": "markdown",
   "metadata": {
    "id": "zOWT4LYiI532"
   },
   "source": [
    "### Exercício 2\n",
    "\n",
    "- Um vendedor de uma loja vende em média 50 produtos por dia. Qual a probabilidade de vender somente 5 produtos no próximo dia?"
   ]
  },
  {
   "cell_type": "code",
   "execution_count": 153,
   "metadata": {},
   "outputs": [
    {
     "name": "stdout",
     "output_type": "stream",
     "text": [
      "5.022786062406049e-14%.\n"
     ]
    },
    {
     "data": {
      "text/plain": [
       "5.02278606240605e-16"
      ]
     },
     "execution_count": 153,
     "metadata": {},
     "output_type": "execute_result"
    }
   ],
   "source": [
    "media = 50\n",
    "x = 5\n",
    "probabilidade = math.pow(math.e, -media) * (math.pow(media, x) / math.factorial(x))\n",
    "print(f'{probabilidade * 100}%.')\n",
    "stats.poisson.pmf(x, media)"
   ]
  },
  {
   "cell_type": "markdown",
   "metadata": {
    "id": "LsU42k0cKRNV"
   },
   "source": [
    "## Previsão de probabilidades em machine learning"
   ]
  },
  {
   "cell_type": "code",
   "execution_count": 154,
   "metadata": {
    "colab": {
     "base_uri": "https://localhost:8080/",
     "height": 228
    },
    "id": "bkOhuihLKSJR",
    "outputId": "0f534f1f-65ff-41c1-be24-1abe90f261aa"
   },
   "outputs": [
    {
     "data": {
      "text/html": [
       "<div>\n",
       "<style scoped>\n",
       "    .dataframe tbody tr th:only-of-type {\n",
       "        vertical-align: middle;\n",
       "    }\n",
       "\n",
       "    .dataframe tbody tr th {\n",
       "        vertical-align: top;\n",
       "    }\n",
       "\n",
       "    .dataframe thead th {\n",
       "        text-align: right;\n",
       "    }\n",
       "</style>\n",
       "<table border=\"1\" class=\"dataframe\">\n",
       "  <thead>\n",
       "    <tr style=\"text-align: right;\">\n",
       "      <th></th>\n",
       "      <th>i#clientid</th>\n",
       "      <th>income</th>\n",
       "      <th>age</th>\n",
       "      <th>loan</th>\n",
       "      <th>c#default</th>\n",
       "    </tr>\n",
       "  </thead>\n",
       "  <tbody>\n",
       "    <tr>\n",
       "      <th>0</th>\n",
       "      <td>1</td>\n",
       "      <td>66155.925095</td>\n",
       "      <td>59.017015</td>\n",
       "      <td>8106.532131</td>\n",
       "      <td>0</td>\n",
       "    </tr>\n",
       "    <tr>\n",
       "      <th>1</th>\n",
       "      <td>2</td>\n",
       "      <td>34415.153966</td>\n",
       "      <td>48.117153</td>\n",
       "      <td>6564.745018</td>\n",
       "      <td>0</td>\n",
       "    </tr>\n",
       "    <tr>\n",
       "      <th>2</th>\n",
       "      <td>3</td>\n",
       "      <td>57317.170063</td>\n",
       "      <td>63.108049</td>\n",
       "      <td>8020.953296</td>\n",
       "      <td>0</td>\n",
       "    </tr>\n",
       "    <tr>\n",
       "      <th>3</th>\n",
       "      <td>4</td>\n",
       "      <td>42709.534201</td>\n",
       "      <td>45.751972</td>\n",
       "      <td>6103.642260</td>\n",
       "      <td>0</td>\n",
       "    </tr>\n",
       "    <tr>\n",
       "      <th>4</th>\n",
       "      <td>5</td>\n",
       "      <td>66952.688845</td>\n",
       "      <td>18.584336</td>\n",
       "      <td>8770.099235</td>\n",
       "      <td>1</td>\n",
       "    </tr>\n",
       "  </tbody>\n",
       "</table>\n",
       "</div>"
      ],
      "text/plain": [
       "   i#clientid        income        age         loan  c#default\n",
       "0           1  66155.925095  59.017015  8106.532131          0\n",
       "1           2  34415.153966  48.117153  6564.745018          0\n",
       "2           3  57317.170063  63.108049  8020.953296          0\n",
       "3           4  42709.534201  45.751972  6103.642260          0\n",
       "4           5  66952.688845  18.584336  8770.099235          1"
      ]
     },
     "execution_count": 154,
     "metadata": {},
     "output_type": "execute_result"
    }
   ],
   "source": [
    "import pandas as pd\n",
    "dataset = pd.read_csv('Bases de dados/credit_data.csv')\n",
    "dataset.dropna(inplace=True)\n",
    "dataset.head()"
   ]
  },
  {
   "cell_type": "code",
   "execution_count": 155,
   "metadata": {
    "colab": {
     "base_uri": "https://localhost:8080/",
     "height": 160
    },
    "id": "Y_2Krt3jKVTs",
    "outputId": "c996f1f0-6f30-4816-cd80-90692ab84069"
   },
   "outputs": [
    {
     "data": {
      "text/plain": [
       "array([[6.61559251e+04, 5.90170151e+01, 8.10653213e+03],\n",
       "       [3.44151540e+04, 4.81171531e+01, 6.56474502e+03],\n",
       "       [5.73171701e+04, 6.31080495e+01, 8.02095330e+03],\n",
       "       ...,\n",
       "       [4.43114493e+04, 2.80171669e+01, 5.52278669e+03],\n",
       "       [4.37560566e+04, 6.39717958e+01, 1.62272260e+03],\n",
       "       [6.94365796e+04, 5.61526170e+01, 7.37883360e+03]])"
      ]
     },
     "execution_count": 155,
     "metadata": {},
     "output_type": "execute_result"
    }
   ],
   "source": [
    "X = dataset.iloc[:,1:4].values\n",
    "X"
   ]
  },
  {
   "cell_type": "code",
   "execution_count": 156,
   "metadata": {
    "colab": {
     "base_uri": "https://localhost:8080/",
     "height": 55
    },
    "id": "hlW_N9FoKW34",
    "outputId": "0bbb13ba-8c32-4d1c-ed49-510afcf450ff"
   },
   "outputs": [
    {
     "data": {
      "text/plain": [
       "array([0, 0, 0, ..., 1, 0, 0], dtype=int64)"
      ]
     },
     "execution_count": 156,
     "metadata": {},
     "output_type": "execute_result"
    }
   ],
   "source": [
    "y = dataset.iloc[:,4].values\n",
    "y"
   ]
  },
  {
   "cell_type": "code",
   "execution_count": 158,
   "metadata": {},
   "outputs": [],
   "source": [
    "from sklearn.model_selection import train_test_split\n",
    "from sklearn.metrics import accuracy_score\n",
    "X_treinamento, X_teste, y_treinamento, y_teste = train_test_split(X, y, test_size=0.25, stratify=y)"
   ]
  },
  {
   "cell_type": "code",
   "execution_count": 159,
   "metadata": {
    "colab": {
     "base_uri": "https://localhost:8080/",
     "height": 55
    },
    "id": "XLwe331OKYeq",
    "outputId": "a4cf8a0e-dbd4-4bd9-94a7-00edfb164f38"
   },
   "outputs": [
    {
     "data": {
      "text/html": [
       "<style>#sk-container-id-1 {color: black;background-color: white;}#sk-container-id-1 pre{padding: 0;}#sk-container-id-1 div.sk-toggleable {background-color: white;}#sk-container-id-1 label.sk-toggleable__label {cursor: pointer;display: block;width: 100%;margin-bottom: 0;padding: 0.3em;box-sizing: border-box;text-align: center;}#sk-container-id-1 label.sk-toggleable__label-arrow:before {content: \"▸\";float: left;margin-right: 0.25em;color: #696969;}#sk-container-id-1 label.sk-toggleable__label-arrow:hover:before {color: black;}#sk-container-id-1 div.sk-estimator:hover label.sk-toggleable__label-arrow:before {color: black;}#sk-container-id-1 div.sk-toggleable__content {max-height: 0;max-width: 0;overflow: hidden;text-align: left;background-color: #f0f8ff;}#sk-container-id-1 div.sk-toggleable__content pre {margin: 0.2em;color: black;border-radius: 0.25em;background-color: #f0f8ff;}#sk-container-id-1 input.sk-toggleable__control:checked~div.sk-toggleable__content {max-height: 200px;max-width: 100%;overflow: auto;}#sk-container-id-1 input.sk-toggleable__control:checked~label.sk-toggleable__label-arrow:before {content: \"▾\";}#sk-container-id-1 div.sk-estimator input.sk-toggleable__control:checked~label.sk-toggleable__label {background-color: #d4ebff;}#sk-container-id-1 div.sk-label input.sk-toggleable__control:checked~label.sk-toggleable__label {background-color: #d4ebff;}#sk-container-id-1 input.sk-hidden--visually {border: 0;clip: rect(1px 1px 1px 1px);clip: rect(1px, 1px, 1px, 1px);height: 1px;margin: -1px;overflow: hidden;padding: 0;position: absolute;width: 1px;}#sk-container-id-1 div.sk-estimator {font-family: monospace;background-color: #f0f8ff;border: 1px dotted black;border-radius: 0.25em;box-sizing: border-box;margin-bottom: 0.5em;}#sk-container-id-1 div.sk-estimator:hover {background-color: #d4ebff;}#sk-container-id-1 div.sk-parallel-item::after {content: \"\";width: 100%;border-bottom: 1px solid gray;flex-grow: 1;}#sk-container-id-1 div.sk-label:hover label.sk-toggleable__label {background-color: #d4ebff;}#sk-container-id-1 div.sk-serial::before {content: \"\";position: absolute;border-left: 1px solid gray;box-sizing: border-box;top: 0;bottom: 0;left: 50%;z-index: 0;}#sk-container-id-1 div.sk-serial {display: flex;flex-direction: column;align-items: center;background-color: white;padding-right: 0.2em;padding-left: 0.2em;position: relative;}#sk-container-id-1 div.sk-item {position: relative;z-index: 1;}#sk-container-id-1 div.sk-parallel {display: flex;align-items: stretch;justify-content: center;background-color: white;position: relative;}#sk-container-id-1 div.sk-item::before, #sk-container-id-1 div.sk-parallel-item::before {content: \"\";position: absolute;border-left: 1px solid gray;box-sizing: border-box;top: 0;bottom: 0;left: 50%;z-index: -1;}#sk-container-id-1 div.sk-parallel-item {display: flex;flex-direction: column;z-index: 1;position: relative;background-color: white;}#sk-container-id-1 div.sk-parallel-item:first-child::after {align-self: flex-end;width: 50%;}#sk-container-id-1 div.sk-parallel-item:last-child::after {align-self: flex-start;width: 50%;}#sk-container-id-1 div.sk-parallel-item:only-child::after {width: 0;}#sk-container-id-1 div.sk-dashed-wrapped {border: 1px dashed gray;margin: 0 0.4em 0.5em 0.4em;box-sizing: border-box;padding-bottom: 0.4em;background-color: white;}#sk-container-id-1 div.sk-label label {font-family: monospace;font-weight: bold;display: inline-block;line-height: 1.2em;}#sk-container-id-1 div.sk-label-container {text-align: center;}#sk-container-id-1 div.sk-container {/* jupyter's `normalize.less` sets `[hidden] { display: none; }` but bootstrap.min.css set `[hidden] { display: none !important; }` so we also need the `!important` here to be able to override the default hidden behavior on the sphinx rendered scikit-learn.org. See: https://github.com/scikit-learn/scikit-learn/issues/21755 */display: inline-block !important;position: relative;}#sk-container-id-1 div.sk-text-repr-fallback {display: none;}</style><div id=\"sk-container-id-1\" class=\"sk-top-container\"><div class=\"sk-text-repr-fallback\"><pre>GaussianNB()</pre><b>In a Jupyter environment, please rerun this cell to show the HTML representation or trust the notebook. <br />On GitHub, the HTML representation is unable to render, please try loading this page with nbviewer.org.</b></div><div class=\"sk-container\" hidden><div class=\"sk-item\"><div class=\"sk-estimator sk-toggleable\"><input class=\"sk-toggleable__control sk-hidden--visually\" id=\"sk-estimator-id-1\" type=\"checkbox\" checked><label for=\"sk-estimator-id-1\" class=\"sk-toggleable__label sk-toggleable__label-arrow\">GaussianNB</label><div class=\"sk-toggleable__content\"><pre>GaussianNB()</pre></div></div></div></div></div>"
      ],
      "text/plain": [
       "GaussianNB()"
      ]
     },
     "execution_count": 159,
     "metadata": {},
     "output_type": "execute_result"
    }
   ],
   "source": [
    "from sklearn.naive_bayes import GaussianNB\n",
    "naive_bayes = GaussianNB()\n",
    "naive_bayes.fit(X_treinamento, y_treinamento)"
   ]
  },
  {
   "cell_type": "code",
   "execution_count": 167,
   "metadata": {
    "colab": {
     "base_uri": "https://localhost:8080/",
     "height": 55
    },
    "id": "zO8a1v8iKaTa",
    "outputId": "9c12534a-b0a7-46bd-d5f0-3bd7458e014a"
   },
   "outputs": [
    {
     "data": {
      "text/plain": [
       "(array([4.58985135e+04, 2.46631496e+01, 5.61717865e+03]), (3,))"
      ]
     },
     "execution_count": 167,
     "metadata": {},
     "output_type": "execute_result"
    }
   ],
   "source": [
    "X_teste[0], X_teste[0].shape"
   ]
  },
  {
   "cell_type": "code",
   "execution_count": 176,
   "metadata": {
    "colab": {
     "base_uri": "https://localhost:8080/",
     "height": 55
    },
    "id": "lixqV7KQKby9",
    "outputId": "4e1cc56f-61df-43be-ca5f-31553c5a94ae"
   },
   "outputs": [
    {
     "data": {
      "text/plain": [
       "(1, 3)"
      ]
     },
     "execution_count": 176,
     "metadata": {},
     "output_type": "execute_result"
    }
   ],
   "source": [
    "novo = X_teste[0].reshape(1,-1)\n",
    "novo.shape"
   ]
  },
  {
   "cell_type": "code",
   "execution_count": 177,
   "metadata": {
    "colab": {
     "base_uri": "https://localhost:8080/",
     "height": 55
    },
    "id": "G4EfDifZKdP9",
    "outputId": "26e64260-368e-4544-d7c9-4f425f47549e"
   },
   "outputs": [
    {
     "data": {
      "text/plain": [
       "array([[4.58985135e+04, 2.46631496e+01, 5.61717865e+03]])"
      ]
     },
     "execution_count": 177,
     "metadata": {},
     "output_type": "execute_result"
    }
   ],
   "source": [
    "novo"
   ]
  },
  {
   "cell_type": "code",
   "execution_count": 178,
   "metadata": {
    "colab": {
     "base_uri": "https://localhost:8080/",
     "height": 55
    },
    "id": "36yItUpaKevn",
    "outputId": "f131366c-a65e-4088-bb9e-f5ed69133354"
   },
   "outputs": [
    {
     "data": {
      "text/plain": [
       "array([1], dtype=int64)"
      ]
     },
     "execution_count": 178,
     "metadata": {},
     "output_type": "execute_result"
    }
   ],
   "source": [
    "naive_bayes.predict(novo)"
   ]
  },
  {
   "cell_type": "code",
   "execution_count": 179,
   "metadata": {
    "colab": {
     "base_uri": "https://localhost:8080/",
     "height": 55
    },
    "id": "wVWYLwYQKgKG",
    "outputId": "6a19d430-9d05-4af4-9f2b-6427682db5ad"
   },
   "outputs": [
    {
     "data": {
      "text/plain": [
       "array([[0.45259906, 0.54740094]])"
      ]
     },
     "execution_count": 179,
     "metadata": {},
     "output_type": "execute_result"
    }
   ],
   "source": [
    "previsao = naive_bayes.predict_proba(novo)\n",
    "previsao"
   ]
  },
  {
   "cell_type": "code",
   "execution_count": 180,
   "metadata": {
    "colab": {
     "base_uri": "https://localhost:8080/",
     "height": 55
    },
    "id": "Bb1pAe0lKhkY",
    "outputId": "b9fd09d0-4cae-4469-fe43-cab1734e1099"
   },
   "outputs": [
    {
     "data": {
      "text/plain": [
       "1"
      ]
     },
     "execution_count": 180,
     "metadata": {},
     "output_type": "execute_result"
    }
   ],
   "source": [
    "np.argmax(previsao)"
   ]
  }
 ],
 "metadata": {
  "colab": {
   "collapsed_sections": [
    "gmBXJGnRxWq3",
    "w2WYy99Vxcif",
    "CKW7Fregd1LF",
    "sOBWHav0f4XF",
    "-kqXB3cghQ14",
    "HRvvngMAofQi",
    "gY73bwJcpquV",
    "mxblw-KwtijT",
    "lDooGDk_u9te",
    "tycsxFW4wEW9",
    "Yl7mp1CkwIsa",
    "R1GvBu2tAHeg",
    "OpSKRl6nAL18",
    "IAY-YuWTARnE",
    "ny0Vglv_AV0I",
    "gSxfyMArAaoZ",
    "U2fnkmZBGWch",
    "PPb2aSXOIpwl",
    "TT5wf53EIsXm",
    "4AYL5-nTIyc6",
    "zOWT4LYiI532"
   ],
   "provenance": []
  },
  "kernelspec": {
   "display_name": "Python 3 (ipykernel)",
   "language": "python",
   "name": "python3"
  },
  "language_info": {
   "codemirror_mode": {
    "name": "ipython",
    "version": 3
   },
   "file_extension": ".py",
   "mimetype": "text/x-python",
   "name": "python",
   "nbconvert_exporter": "python",
   "pygments_lexer": "ipython3",
   "version": "3.9.7"
  }
 },
 "nbformat": 4,
 "nbformat_minor": 1
}
